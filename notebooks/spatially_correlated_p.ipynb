{
  "nbformat": 4,
  "nbformat_minor": 0,
  "metadata": {
    "colab": {
      "provenance": [],
      "authorship_tag": "ABX9TyNdPeTC6aKz76S3AmcKC+GN",
      "include_colab_link": true
    },
    "kernelspec": {
      "name": "python3",
      "display_name": "Python 3"
    },
    "language_info": {
      "name": "python"
    }
  },
  "cells": [
    {
      "cell_type": "markdown",
      "metadata": {
        "id": "view-in-github",
        "colab_type": "text"
      },
      "source": [
        "<a href=\"https://colab.research.google.com/github/kayla-jackson/spatial-modeling/blob/test-exploratory-sims/notebooks/spatially_correlated_p.ipynb\" target=\"_parent\"><img src=\"https://colab.research.google.com/assets/colab-badge.svg\" alt=\"Open In Colab\"/></a>"
      ]
    },
    {
      "cell_type": "code",
      "source": [
        "import numpy as np\n",
        "import matplotlib.pyplot as plt"
      ],
      "metadata": {
        "id": "CzW2bVtiIAOF"
      },
      "execution_count": 3,
      "outputs": []
    },
    {
      "cell_type": "code",
      "source": [
        "# Helper functions to generate a sample from MVN(0, sigma)\n",
        "\n",
        "def adjacency_matrix(A):\n",
        "    '''Returns the adjacency matrix W from A, a NumPy array'''\n",
        "    rows, cols = len(A), len(A[0])\n",
        "    locs = rows * cols # number of spatial locations on the grid\n",
        "    W = np.zeros((locs, locs), dtype=int)\n",
        "\n",
        "    # Iterate through each element in A to determine number of neighbors\n",
        "    for r in range(rows):\n",
        "        for c in range(cols):\n",
        "            for dr, dc in [(-1,0),(1,0),(0,-1),(0,1)]:\n",
        "                if 0 <= r + dr < rows and 0 <= c + dc < cols:\n",
        "                    W[r * cols + c][(r + dr) * cols + c + dc] = 1\n",
        "\n",
        "    return W\n",
        "\n",
        "def sum_adjacency_matrix(W):\n",
        "    '''Outputs matrix D with same dimensions as W;\n",
        "    Sums the number of neighbors of the original points'''\n",
        "    return np.diag(np.sum(W, axis=1))\n",
        "\n",
        "def compute_sigma(A, alpha, tau):\n",
        "    '''Outputs the covariance matrix termed sigma from original matrix A'''\n",
        "    W = adjacency_matrix(A)\n",
        "    D = sum_adjacency_matrix(W)\n",
        "\n",
        "    Q = tau * (D - alpha * W) # the formula\n",
        "    return np.linalg.inv(Q)"
      ],
      "metadata": {
        "id": "K4EenNGqINEr"
      },
      "execution_count": 21,
      "outputs": []
    },
    {
      "cell_type": "code",
      "source": [
        "# Testing the functions\n",
        "\n",
        "A = np.array([[1,2,3],[4,5,6],[7,8,9]])\n",
        "W = adjacency_matrix(A)\n",
        "D = sum_adjacency_matrix(W)\n",
        "sigma = compute_sigma(A, 0.99, 1)\n",
        "\n",
        "print(f'W: {W}')\n",
        "print(f'D: {D}')\n",
        "print(f'Sigma: {sigma}')"
      ],
      "metadata": {
        "colab": {
          "base_uri": "https://localhost:8080/"
        },
        "id": "tcIQIIcvPv1X",
        "outputId": "dd1c7934-9586-4c96-f6c5-8bc21110490a"
      },
      "execution_count": 22,
      "outputs": [
        {
          "output_type": "stream",
          "name": "stdout",
          "text": [
            "W: [[0 1 0 1 0 0 0 0 0]\n",
            " [1 0 1 0 1 0 0 0 0]\n",
            " [0 1 0 0 0 1 0 0 0]\n",
            " [1 0 0 0 1 0 1 0 0]\n",
            " [0 1 0 1 0 1 0 1 0]\n",
            " [0 0 1 0 1 0 0 0 1]\n",
            " [0 0 0 1 0 0 0 1 0]\n",
            " [0 0 0 0 1 0 1 0 1]\n",
            " [0 0 0 0 0 1 0 1 0]]\n",
            "D: [[2 0 0 0 0 0 0 0 0]\n",
            " [0 3 0 0 0 0 0 0 0]\n",
            " [0 0 2 0 0 0 0 0 0]\n",
            " [0 0 0 3 0 0 0 0 0]\n",
            " [0 0 0 0 4 0 0 0 0]\n",
            " [0 0 0 0 0 3 0 0 0]\n",
            " [0 0 0 0 0 0 2 0 0]\n",
            " [0 0 0 0 0 0 0 3 0]\n",
            " [0 0 0 0 0 0 0 0 2]]\n",
            "Sigma: [[4.72557687 4.26825946 4.10427136 4.26825946 4.10427136 4.02319782\n",
            "  4.10427136 4.02319782 3.98296585]\n",
            " [4.26825946 4.51847503 4.26825946 4.10427136 4.14572864 4.10427136\n",
            "  4.02319782 4.02340102 4.02319782]\n",
            " [4.10427136 4.26825946 4.72557687 4.02319782 4.10427136 4.26825946\n",
            "  3.98296585 4.02319782 4.10427136]\n",
            " [4.26825946 4.10427136 4.02319782 4.51847503 4.14572864 4.02340102\n",
            "  4.26825946 4.10427136 4.02319782]\n",
            " [4.10427136 4.14572864 4.10427136 4.14572864 4.35427136 4.14572864\n",
            "  4.10427136 4.14572864 4.10427136]\n",
            " [4.02319782 4.10427136 4.26825946 4.02340102 4.14572864 4.51847503\n",
            "  4.02319782 4.10427136 4.26825946]\n",
            " [4.10427136 4.02319782 3.98296585 4.26825946 4.10427136 4.02319782\n",
            "  4.72557687 4.26825946 4.10427136]\n",
            " [4.02319782 4.02340102 4.02319782 4.10427136 4.14572864 4.10427136\n",
            "  4.26825946 4.51847503 4.26825946]\n",
            " [3.98296585 4.02319782 4.10427136 4.02319782 4.10427136 4.26825946\n",
            "  4.10427136 4.26825946 4.72557687]]\n"
          ]
        }
      ]
    },
    {
      "cell_type": "code",
      "source": [
        "# With the full 10x10 grid:\n",
        "\n",
        "A = np.zeros((10,10), dtype=int)\n",
        "W = adjacency_matrix(A)\n",
        "D = sum_adjacency_matrix(W)\n",
        "sigma = compute_sigma(A, 0.99, 1)\n",
        "\n",
        "print(f'W: {W}')\n",
        "print(f'D: {D}')\n",
        "print(f'Sigma: {sigma}')"
      ],
      "metadata": {
        "colab": {
          "base_uri": "https://localhost:8080/"
        },
        "id": "vh7eULYARh1h",
        "outputId": "29576637-fcbf-4d61-dc82-37c9cf6ea172"
      },
      "execution_count": 23,
      "outputs": [
        {
          "output_type": "stream",
          "name": "stdout",
          "text": [
            "W: [[0 1 0 ... 0 0 0]\n",
            " [1 0 1 ... 0 0 0]\n",
            " [0 1 0 ... 0 0 0]\n",
            " ...\n",
            " [0 0 0 ... 0 1 0]\n",
            " [0 0 0 ... 1 0 1]\n",
            " [0 0 0 ... 0 1 0]]\n",
            "D: [[2 0 0 ... 0 0 0]\n",
            " [0 3 0 ... 0 0 0]\n",
            " [0 0 3 ... 0 0 0]\n",
            " ...\n",
            " [0 0 0 ... 3 0 0]\n",
            " [0 0 0 ... 0 3 0]\n",
            " [0 0 0 ... 0 0 2]]\n",
            "Sigma: [[1.44637106 0.95593036 0.68112832 ... 0.14572908 0.1416529  0.14023637]\n",
            " [0.95593036 1.16191315 0.77788798 ... 0.14658889 0.14288171 0.1416529 ]\n",
            " [0.68112832 0.77788798 1.04330611 ... 0.14958705 0.14658889 0.14572908]\n",
            " ...\n",
            " [0.14572908 0.14658889 0.14958705 ... 1.04330611 0.77788798 0.68112832]\n",
            " [0.1416529  0.14288171 0.14658889 ... 0.77788798 1.16191315 0.95593036]\n",
            " [0.14023637 0.1416529  0.14572908 ... 0.68112832 0.95593036 1.44637106]]\n"
          ]
        }
      ]
    },
    {
      "cell_type": "code",
      "source": [
        "# Generating the sample\n",
        "\n",
        "def MVN_sample(sigma):\n",
        "    '''Returns a sample from a multivariate normal distribution\n",
        "    where sigma is a covariance matrix'''\n",
        "    zero_vector = np.zeros(len(sigma))\n",
        "    sample = np.random.multivariate_normal(zero_vector, sigma)\n",
        "\n",
        "    return sample\n",
        "\n",
        "def inverse_logit_transformation(M):\n",
        "    '''Transforms a matrix of values into the range (0,1)'''\n",
        "    return 1 / (1 + np.exp(-M))"
      ],
      "metadata": {
        "id": "NJTHzei7TtFM"
      },
      "execution_count": 35,
      "outputs": []
    },
    {
      "cell_type": "code",
      "source": [
        "# Testing the above functions\n",
        "\n",
        "sample = MVN_sample(sigma)\n",
        "transformed_sample = inverse_logit_transformation(sample)\n",
        "print(sample)\n",
        "print(transformed_sample)"
      ],
      "metadata": {
        "id": "KjrS3e6nUvK9",
        "outputId": "b37ec860-c22d-4deb-e286-e8d37aea7670",
        "colab": {
          "base_uri": "https://localhost:8080/"
        }
      },
      "execution_count": 36,
      "outputs": [
        {
          "output_type": "stream",
          "name": "stdout",
          "text": [
            "[ 0.09936512 -0.45510788  0.60860486  0.52885871  0.1107455   0.64851774\n",
            "  1.12686319  0.04759283 -0.41708648 -1.31719387  0.11479255 -0.33338361\n",
            "  0.13125119  0.75964191 -0.31166391  0.70693891 -0.59279287 -1.48563689\n",
            " -1.25307457 -0.94267524 -0.22674093 -0.45763101  0.39959344  1.00972887\n",
            "  0.93708813  0.1429594  -1.09992156 -0.39082006 -0.52125283 -0.29004109\n",
            "  0.14451038  0.41003379  0.97221333  0.1685332  -0.17630832  0.24777113\n",
            " -0.3736659  -1.45983176 -0.13227807  0.29427531 -0.14127138  0.57899608\n",
            "  0.07487003 -0.16211306  0.04111261 -0.92263054 -1.07517867 -0.54702808\n",
            " -0.09093499 -0.20273163  0.5549732  -0.73730067  0.40239985 -0.8071676\n",
            " -0.98080733 -1.00325829 -1.34542026 -0.21451476 -0.36817926 -0.31305604\n",
            " -1.53702238 -1.10706804 -0.8639632  -0.86516002 -0.03032462  0.2139956\n",
            " -0.2752821  -0.4487904  -0.33842837  0.45151585 -1.16012148 -0.13060761\n",
            " -0.76698662 -1.24452408 -0.49779353  0.5192837   1.05261978  0.95815927\n",
            "  0.02331258  0.88254307 -0.88856868 -0.32020292 -0.96970489 -0.69798086\n",
            " -0.53906839  0.59368372  0.47562457  0.51777652  0.19862838 -0.61482129\n",
            " -0.85163992 -1.06874314  0.12680166 -0.97396435 -0.1077016   0.78790082\n",
            "  1.21127013 -0.50122176  1.00954404  0.78538217]\n",
            "[0.52482086 0.38814701 0.64762249 0.62921688 0.52765811 0.65667636\n",
            " 0.75525955 0.51189596 0.39721414 0.21128554 0.52866667 0.41741757\n",
            " 0.53276577 0.68127598 0.42270865 0.66972442 0.3559943  0.18457751\n",
            " 0.22216837 0.28036027 0.44355638 0.38754796 0.59858998 0.73296709\n",
            " 0.7185111  0.53567911 0.24975459 0.4035199  0.37255933 0.42799381\n",
            " 0.53606485 0.60109598 0.72556044 0.54203385 0.45603674 0.56162783\n",
            " 0.40765551 0.18849306 0.46697862 0.57304248 0.46474078 0.64083637\n",
            " 0.51870877 0.45956026 0.5102767  0.28442221 0.25441949 0.36655419\n",
            " 0.47728191 0.44948997 0.63528864 0.32359469 0.59926411 0.30849439\n",
            " 0.27273162 0.26830129 0.20662011 0.44657602 0.40898105 0.42236897\n",
            " 0.17696855 0.2484179  0.29651198 0.2962624  0.49241943 0.55329567\n",
            " 0.43161081 0.3896484  0.4161913  0.61099958 0.23864521 0.46739443\n",
            " 0.31713132 0.22364949 0.37805934 0.62698026 0.74127765 0.72275311\n",
            " 0.50582788 0.70734893 0.29140529 0.4206263  0.27493933 0.33226005\n",
            " 0.36840433 0.64420991 0.61671415 0.6266277  0.54949447 0.35096018\n",
            " 0.29908896 0.25564218 0.53165801 0.27409103 0.4731006  0.68738042\n",
            " 0.77052361 0.37725359 0.73293091 0.68683893]\n"
          ]
        }
      ]
    }
  ]
}