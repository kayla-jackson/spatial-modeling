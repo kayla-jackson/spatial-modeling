{
  "nbformat": 4,
  "nbformat_minor": 0,
  "metadata": {
    "colab": {
      "provenance": [],
      "authorship_tag": "ABX9TyO3XR5TxpSQrdyIVhjg4vpl",
      "include_colab_link": true
    },
    "kernelspec": {
      "name": "python3",
      "display_name": "Python 3"
    },
    "language_info": {
      "name": "python"
    }
  },
  "cells": [
    {
      "cell_type": "markdown",
      "metadata": {
        "id": "view-in-github",
        "colab_type": "text"
      },
      "source": [
        "<a href=\"https://colab.research.google.com/github/kayla-jackson/spatial-modeling/blob/test-exploratory-sims/notebooks/spatially_correlated_p.ipynb\" target=\"_parent\"><img src=\"https://colab.research.google.com/assets/colab-badge.svg\" alt=\"Open In Colab\"/></a>"
      ]
    },
    {
      "cell_type": "code",
      "source": [
        "!pip install esda"
      ],
      "metadata": {
        "id": "BwwMaDO_mIY8",
        "outputId": "0e3e6d90-efeb-484c-ca32-76aef7683386",
        "colab": {
          "base_uri": "https://localhost:8080/"
        }
      },
      "execution_count": 70,
      "outputs": [
        {
          "output_type": "stream",
          "name": "stdout",
          "text": [
            "Requirement already satisfied: esda in /usr/local/lib/python3.10/dist-packages (2.5.0)\n",
            "Requirement already satisfied: libpysal in /usr/local/lib/python3.10/dist-packages (from esda) (4.7.0)\n",
            "Requirement already satisfied: pandas>1.4 in /usr/local/lib/python3.10/dist-packages (from esda) (1.5.3)\n",
            "Requirement already satisfied: scikit-learn>=1.0 in /usr/local/lib/python3.10/dist-packages (from esda) (1.2.2)\n",
            "Requirement already satisfied: scipy>=1.9 in /usr/local/lib/python3.10/dist-packages (from esda) (1.11.2)\n",
            "Requirement already satisfied: python-dateutil>=2.8.1 in /usr/local/lib/python3.10/dist-packages (from pandas>1.4->esda) (2.8.2)\n",
            "Requirement already satisfied: pytz>=2020.1 in /usr/local/lib/python3.10/dist-packages (from pandas>1.4->esda) (2023.3.post1)\n",
            "Requirement already satisfied: numpy>=1.21.0 in /usr/local/lib/python3.10/dist-packages (from pandas>1.4->esda) (1.23.5)\n",
            "Requirement already satisfied: joblib>=1.1.1 in /usr/local/lib/python3.10/dist-packages (from scikit-learn>=1.0->esda) (1.3.2)\n",
            "Requirement already satisfied: threadpoolctl>=2.0.0 in /usr/local/lib/python3.10/dist-packages (from scikit-learn>=1.0->esda) (3.2.0)\n",
            "Requirement already satisfied: platformdirs in /usr/local/lib/python3.10/dist-packages (from libpysal->esda) (3.10.0)\n",
            "Requirement already satisfied: beautifulsoup4 in /usr/local/lib/python3.10/dist-packages (from libpysal->esda) (4.11.2)\n",
            "Requirement already satisfied: jinja2 in /usr/local/lib/python3.10/dist-packages (from libpysal->esda) (3.1.2)\n",
            "Requirement already satisfied: requests in /usr/local/lib/python3.10/dist-packages (from libpysal->esda) (2.31.0)\n",
            "Requirement already satisfied: packaging in /usr/local/lib/python3.10/dist-packages (from libpysal->esda) (23.1)\n",
            "Requirement already satisfied: six>=1.5 in /usr/local/lib/python3.10/dist-packages (from python-dateutil>=2.8.1->pandas>1.4->esda) (1.16.0)\n",
            "Requirement already satisfied: soupsieve>1.2 in /usr/local/lib/python3.10/dist-packages (from beautifulsoup4->libpysal->esda) (2.5)\n",
            "Requirement already satisfied: MarkupSafe>=2.0 in /usr/local/lib/python3.10/dist-packages (from jinja2->libpysal->esda) (2.1.3)\n",
            "Requirement already satisfied: charset-normalizer<4,>=2 in /usr/local/lib/python3.10/dist-packages (from requests->libpysal->esda) (3.2.0)\n",
            "Requirement already satisfied: idna<4,>=2.5 in /usr/local/lib/python3.10/dist-packages (from requests->libpysal->esda) (3.4)\n",
            "Requirement already satisfied: urllib3<3,>=1.21.1 in /usr/local/lib/python3.10/dist-packages (from requests->libpysal->esda) (2.0.4)\n",
            "Requirement already satisfied: certifi>=2017.4.17 in /usr/local/lib/python3.10/dist-packages (from requests->libpysal->esda) (2023.7.22)\n"
          ]
        }
      ]
    },
    {
      "cell_type": "code",
      "source": [
        "import numpy as np\n",
        "import matplotlib.pyplot as plt\n",
        "from esda.moran import Moran"
      ],
      "metadata": {
        "id": "CzW2bVtiIAOF"
      },
      "execution_count": 71,
      "outputs": []
    },
    {
      "cell_type": "code",
      "source": [
        "# Static variables\n",
        "\n",
        "GRID_SIZE = 10 # dimensions of spatial grid\n",
        "NUM_SAMPLES = 1000"
      ],
      "metadata": {
        "id": "zlO1DgG2mTyO"
      },
      "execution_count": 72,
      "outputs": []
    },
    {
      "cell_type": "code",
      "source": [
        "# Helper functions to generate a sample from MVN(0, sigma)\n",
        "\n",
        "def adjacency_matrix(A):\n",
        "    '''Returns the adjacency matrix W from A, a NumPy array'''\n",
        "    rows, cols = len(A), len(A[0])\n",
        "    locs = rows * cols # number of spatial locations on the grid\n",
        "    W = np.zeros((locs, locs), dtype=int)\n",
        "\n",
        "    # Iterate through each element in A to determine number of neighbors\n",
        "    for r in range(rows):\n",
        "        for c in range(cols):\n",
        "            for dr, dc in [(-1,0),(1,0),(0,-1),(0,1)]:\n",
        "                if 0 <= r + dr < rows and 0 <= c + dc < cols:\n",
        "                    W[r * cols + c][(r + dr) * cols + c + dc] = 1\n",
        "\n",
        "    return W\n",
        "\n",
        "def sum_adjacency_matrix(W):\n",
        "    '''Outputs matrix D with same dimensions as W;\n",
        "    Sums the number of neighbors of the original points'''\n",
        "    return np.diag(np.sum(W, axis=1))\n",
        "\n",
        "def compute_sigma(A, alpha, tau):\n",
        "    '''Outputs the covariance matrix termed sigma from original matrix A'''\n",
        "    W = adjacency_matrix(A)\n",
        "    D = sum_adjacency_matrix(W)\n",
        "\n",
        "    Q = tau * (D - alpha * W) # the formula\n",
        "    return np.linalg.inv(Q)"
      ],
      "metadata": {
        "id": "K4EenNGqINEr"
      },
      "execution_count": 73,
      "outputs": []
    },
    {
      "cell_type": "code",
      "source": [
        "# Testing the functions\n",
        "\n",
        "A = np.array([[1,2,3],[4,5,6],[7,8,9]])\n",
        "W = adjacency_matrix(A)\n",
        "D = sum_adjacency_matrix(W)\n",
        "sigma = compute_sigma(A, 0.99, 1)\n",
        "\n",
        "print(f'W: {W}')\n",
        "print(f'D: {D}')\n",
        "print(f'Sigma: {sigma}')"
      ],
      "metadata": {
        "colab": {
          "base_uri": "https://localhost:8080/"
        },
        "id": "tcIQIIcvPv1X",
        "outputId": "5cd9ddb9-9100-4176-b8ba-37161cc1ecf8"
      },
      "execution_count": 74,
      "outputs": [
        {
          "output_type": "stream",
          "name": "stdout",
          "text": [
            "W: [[0 1 0 1 0 0 0 0 0]\n",
            " [1 0 1 0 1 0 0 0 0]\n",
            " [0 1 0 0 0 1 0 0 0]\n",
            " [1 0 0 0 1 0 1 0 0]\n",
            " [0 1 0 1 0 1 0 1 0]\n",
            " [0 0 1 0 1 0 0 0 1]\n",
            " [0 0 0 1 0 0 0 1 0]\n",
            " [0 0 0 0 1 0 1 0 1]\n",
            " [0 0 0 0 0 1 0 1 0]]\n",
            "D: [[2 0 0 0 0 0 0 0 0]\n",
            " [0 3 0 0 0 0 0 0 0]\n",
            " [0 0 2 0 0 0 0 0 0]\n",
            " [0 0 0 3 0 0 0 0 0]\n",
            " [0 0 0 0 4 0 0 0 0]\n",
            " [0 0 0 0 0 3 0 0 0]\n",
            " [0 0 0 0 0 0 2 0 0]\n",
            " [0 0 0 0 0 0 0 3 0]\n",
            " [0 0 0 0 0 0 0 0 2]]\n",
            "Sigma: [[4.72557687 4.26825946 4.10427136 4.26825946 4.10427136 4.02319782\n",
            "  4.10427136 4.02319782 3.98296585]\n",
            " [4.26825946 4.51847503 4.26825946 4.10427136 4.14572864 4.10427136\n",
            "  4.02319782 4.02340102 4.02319782]\n",
            " [4.10427136 4.26825946 4.72557687 4.02319782 4.10427136 4.26825946\n",
            "  3.98296585 4.02319782 4.10427136]\n",
            " [4.26825946 4.10427136 4.02319782 4.51847503 4.14572864 4.02340102\n",
            "  4.26825946 4.10427136 4.02319782]\n",
            " [4.10427136 4.14572864 4.10427136 4.14572864 4.35427136 4.14572864\n",
            "  4.10427136 4.14572864 4.10427136]\n",
            " [4.02319782 4.10427136 4.26825946 4.02340102 4.14572864 4.51847503\n",
            "  4.02319782 4.10427136 4.26825946]\n",
            " [4.10427136 4.02319782 3.98296585 4.26825946 4.10427136 4.02319782\n",
            "  4.72557687 4.26825946 4.10427136]\n",
            " [4.02319782 4.02340102 4.02319782 4.10427136 4.14572864 4.10427136\n",
            "  4.26825946 4.51847503 4.26825946]\n",
            " [3.98296585 4.02319782 4.10427136 4.02319782 4.10427136 4.26825946\n",
            "  4.10427136 4.26825946 4.72557687]]\n"
          ]
        }
      ]
    },
    {
      "cell_type": "code",
      "source": [
        "# With the full 10x10 grid:\n",
        "\n",
        "A = np.zeros((GRID_SIZE, GRID_SIZE), dtype=int)\n",
        "W = adjacency_matrix(A)\n",
        "D = sum_adjacency_matrix(W)\n",
        "sigma = compute_sigma(A, 0.99, 1)\n",
        "\n",
        "print(f'W: {W}')\n",
        "print(f'D: {D}')\n",
        "print(f'Sigma: {sigma}')"
      ],
      "metadata": {
        "colab": {
          "base_uri": "https://localhost:8080/"
        },
        "id": "vh7eULYARh1h",
        "outputId": "18a88c5b-8e1a-4464-9ce0-46d3d1fc298e"
      },
      "execution_count": 75,
      "outputs": [
        {
          "output_type": "stream",
          "name": "stdout",
          "text": [
            "W: [[0 1 0 ... 0 0 0]\n",
            " [1 0 1 ... 0 0 0]\n",
            " [0 1 0 ... 0 0 0]\n",
            " ...\n",
            " [0 0 0 ... 0 1 0]\n",
            " [0 0 0 ... 1 0 1]\n",
            " [0 0 0 ... 0 1 0]]\n",
            "D: [[2 0 0 ... 0 0 0]\n",
            " [0 3 0 ... 0 0 0]\n",
            " [0 0 3 ... 0 0 0]\n",
            " ...\n",
            " [0 0 0 ... 3 0 0]\n",
            " [0 0 0 ... 0 3 0]\n",
            " [0 0 0 ... 0 0 2]]\n",
            "Sigma: [[1.44637106 0.95593036 0.68112832 ... 0.14572908 0.1416529  0.14023637]\n",
            " [0.95593036 1.16191315 0.77788798 ... 0.14658889 0.14288171 0.1416529 ]\n",
            " [0.68112832 0.77788798 1.04330611 ... 0.14958705 0.14658889 0.14572908]\n",
            " ...\n",
            " [0.14572908 0.14658889 0.14958705 ... 1.04330611 0.77788798 0.68112832]\n",
            " [0.1416529  0.14288171 0.14658889 ... 0.77788798 1.16191315 0.95593036]\n",
            " [0.14023637 0.1416529  0.14572908 ... 0.68112832 0.95593036 1.44637106]]\n"
          ]
        }
      ]
    },
    {
      "cell_type": "code",
      "source": [
        "# Generating the sample\n",
        "\n",
        "def MVN_sample(sigma, num_samples):\n",
        "    '''Returns a sample from a multivariate normal distribution\n",
        "    where sigma is a covariance matrix'''\n",
        "    zero_vector = np.zeros(len(sigma))\n",
        "    samples = np.random.multivariate_normal(zero_vector, sigma, num_samples)\n",
        "\n",
        "    return samples\n",
        "\n",
        "def inverse_logit_transformation(M):\n",
        "    '''Transforms a matrix of values into the range (0,1)'''\n",
        "    return 1 / (1 + np.exp(-M))"
      ],
      "metadata": {
        "id": "NJTHzei7TtFM"
      },
      "execution_count": 76,
      "outputs": []
    },
    {
      "cell_type": "code",
      "source": [
        "# Testing the above functions\n",
        "\n",
        "samples = MVN_sample(sigma, NUM_SAMPLES)\n",
        "transformed_samples = inverse_logit_transformation(samples)\n",
        "print(samples)\n",
        "print(transformed_samples)"
      ],
      "metadata": {
        "colab": {
          "base_uri": "https://localhost:8080/"
        },
        "id": "KjrS3e6nUvK9",
        "outputId": "ddd6211a-97a2-4b1e-f427-53efa3b8df00"
      },
      "execution_count": 77,
      "outputs": [
        {
          "output_type": "stream",
          "name": "stdout",
          "text": [
            "[[ 0.2520072   0.45280747  0.97306915 ...  1.04027384  1.01729803\n",
            "   1.3497599 ]\n",
            " [ 0.47767184  0.07783905  0.37196995 ...  1.10345179  0.24120777\n",
            "  -0.39994919]\n",
            " [ 0.84365299  1.37144436  1.19352523 ...  0.99313615  0.08536261\n",
            "   0.21827274]\n",
            " ...\n",
            " [ 0.96265152  0.36680148 -0.7983687  ...  0.64422927  0.14247527\n",
            "  -0.35006468]\n",
            " [-0.8580198  -0.55318178 -1.02609138 ... -0.2089635   0.37944446\n",
            "  -0.48907107]\n",
            " [-0.94207807 -0.6950328  -1.91839959 ...  0.07486801 -0.82440495\n",
            "   0.09725892]]\n",
            "[[0.56267048 0.61130653 0.72573082 ... 0.73890284 0.73444595 0.79409037]\n",
            " [0.61719796 0.51944994 0.5919349  ... 0.75090631 0.56001126 0.40132455]\n",
            " [0.69923402 0.79761341 0.76737096 ... 0.72970693 0.5213277  0.55435256]\n",
            " ...\n",
            " [0.72365237 0.59068588 0.31037458 ... 0.65570887 0.53555869 0.41336674]\n",
            " [0.29775323 0.36512653 0.26384257 ... 0.44794839 0.59373911 0.38011242]\n",
            " [0.28048077 0.33291444 0.12804014 ... 0.51870826 0.30482941 0.52429558]]\n"
          ]
        }
      ]
    },
    {
      "cell_type": "code",
      "source": [
        "# Computing Moran's I for the 1000 samples\n",
        "\n",
        "def moran_I(samples, adj_matrix):\n",
        "    '''Returns array of Moran's I values for each sample in samples;\n",
        "    adj_matrix is spatial weights matrix'''\n",
        "\n",
        "    moran_values = []\n",
        "\n",
        "    # Compute Moran's I for each sample\n",
        "    for sample in samples:\n",
        "        print(sample)\n",
        "        moran_I = Moran(sample, adj_matrix).I\n",
        "        moran_values.append(moran_I)\n",
        "\n",
        "    return moran_values"
      ],
      "metadata": {
        "id": "bBQ3Fy9Jl43x"
      },
      "execution_count": 78,
      "outputs": []
    },
    {
      "cell_type": "code",
      "source": [
        "import scipy.sparse as sp\n",
        "from libpysal.weights import WSP\n",
        "\n",
        "# Convert the adjacency matrix to a scipy sparse matrix\n",
        "sparse_W = sp.csr_matrix(W)\n",
        "\n",
        "# Create a PySAL weights object from the sparse adjacency matrix\n",
        "W = WSP(sparse_W, id_order=range(sparse_W.shape[0]))\n",
        "\n",
        "moran_values = moran_I(transformed_samples, W)\n",
        "print(moran_values)"
      ],
      "metadata": {
        "id": "6YUIyI5pqrwM",
        "outputId": "01f7bd5f-33a6-45b8-a912-5b51a1e4865e",
        "colab": {
          "base_uri": "https://localhost:8080/",
          "height": 669
        }
      },
      "execution_count": 79,
      "outputs": [
        {
          "output_type": "stream",
          "name": "stdout",
          "text": [
            "[0.56267048 0.61130653 0.72573082 0.5997967  0.45056663 0.53836388\n",
            " 0.50409016 0.59611203 0.37025545 0.66972394 0.69461785 0.83313902\n",
            " 0.6967451  0.4424289  0.35224835 0.49793813 0.47718291 0.80087967\n",
            " 0.46136014 0.56763019 0.80364352 0.65530642 0.47663433 0.36296795\n",
            " 0.52231495 0.44149516 0.5876388  0.75601024 0.45163918 0.54741605\n",
            " 0.40750151 0.18667349 0.4594305  0.46572226 0.38569293 0.46416818\n",
            " 0.60369125 0.70599945 0.48284548 0.69246035 0.30858526 0.2279436\n",
            " 0.51683882 0.5855208  0.43745931 0.77017223 0.72347432 0.47989986\n",
            " 0.37348052 0.71717106 0.23027159 0.19039368 0.22435685 0.46829437\n",
            " 0.57384468 0.80042611 0.42951756 0.29599734 0.45676152 0.59560372\n",
            " 0.11459184 0.13696796 0.19099682 0.25815324 0.48486006 0.58618666\n",
            " 0.39370971 0.30751999 0.601367   0.64966289 0.46191789 0.28789221\n",
            " 0.14342046 0.44090392 0.65295735 0.64335304 0.50622952 0.52962071\n",
            " 0.70878027 0.67041053 0.12543726 0.16669191 0.09899749 0.41756575\n",
            " 0.66832298 0.67334826 0.72389542 0.74313658 0.68240638 0.67431192\n",
            " 0.07124289 0.33604818 0.40455169 0.30480998 0.38023001 0.71690475\n",
            " 0.74656565 0.73890284 0.73444595 0.79409037]\n"
          ]
        },
        {
          "output_type": "error",
          "ename": "AttributeError",
          "evalue": "ignored",
          "traceback": [
            "\u001b[0;31m---------------------------------------------------------------------------\u001b[0m",
            "\u001b[0;31mAttributeError\u001b[0m                            Traceback (most recent call last)",
            "\u001b[0;32m<ipython-input-79-b007092caea2>\u001b[0m in \u001b[0;36m<cell line: 10>\u001b[0;34m()\u001b[0m\n\u001b[1;32m      8\u001b[0m \u001b[0mW\u001b[0m \u001b[0;34m=\u001b[0m \u001b[0mWSP\u001b[0m\u001b[0;34m(\u001b[0m\u001b[0msparse_W\u001b[0m\u001b[0;34m,\u001b[0m \u001b[0mid_order\u001b[0m\u001b[0;34m=\u001b[0m\u001b[0mrange\u001b[0m\u001b[0;34m(\u001b[0m\u001b[0msparse_W\u001b[0m\u001b[0;34m.\u001b[0m\u001b[0mshape\u001b[0m\u001b[0;34m[\u001b[0m\u001b[0;36m0\u001b[0m\u001b[0;34m]\u001b[0m\u001b[0;34m)\u001b[0m\u001b[0;34m)\u001b[0m\u001b[0;34m\u001b[0m\u001b[0;34m\u001b[0m\u001b[0m\n\u001b[1;32m      9\u001b[0m \u001b[0;34m\u001b[0m\u001b[0m\n\u001b[0;32m---> 10\u001b[0;31m \u001b[0mmoran_values\u001b[0m \u001b[0;34m=\u001b[0m \u001b[0mmoran_I\u001b[0m\u001b[0;34m(\u001b[0m\u001b[0mtransformed_samples\u001b[0m\u001b[0;34m,\u001b[0m \u001b[0mW\u001b[0m\u001b[0;34m)\u001b[0m\u001b[0;34m\u001b[0m\u001b[0;34m\u001b[0m\u001b[0m\n\u001b[0m\u001b[1;32m     11\u001b[0m \u001b[0mprint\u001b[0m\u001b[0;34m(\u001b[0m\u001b[0mmoran_values\u001b[0m\u001b[0;34m)\u001b[0m\u001b[0;34m\u001b[0m\u001b[0;34m\u001b[0m\u001b[0m\n",
            "\u001b[0;32m<ipython-input-78-06bb820e8025>\u001b[0m in \u001b[0;36mmoran_I\u001b[0;34m(samples, adj_matrix)\u001b[0m\n\u001b[1;32m     10\u001b[0m     \u001b[0;32mfor\u001b[0m \u001b[0msample\u001b[0m \u001b[0;32min\u001b[0m \u001b[0msamples\u001b[0m\u001b[0;34m:\u001b[0m\u001b[0;34m\u001b[0m\u001b[0;34m\u001b[0m\u001b[0m\n\u001b[1;32m     11\u001b[0m         \u001b[0mprint\u001b[0m\u001b[0;34m(\u001b[0m\u001b[0msample\u001b[0m\u001b[0;34m)\u001b[0m\u001b[0;34m\u001b[0m\u001b[0;34m\u001b[0m\u001b[0m\n\u001b[0;32m---> 12\u001b[0;31m         \u001b[0mmoran_I\u001b[0m \u001b[0;34m=\u001b[0m \u001b[0mMoran\u001b[0m\u001b[0;34m(\u001b[0m\u001b[0msample\u001b[0m\u001b[0;34m,\u001b[0m \u001b[0madj_matrix\u001b[0m\u001b[0;34m)\u001b[0m\u001b[0;34m.\u001b[0m\u001b[0mI\u001b[0m\u001b[0;34m\u001b[0m\u001b[0;34m\u001b[0m\u001b[0m\n\u001b[0m\u001b[1;32m     13\u001b[0m         \u001b[0mmoran_values\u001b[0m\u001b[0;34m.\u001b[0m\u001b[0mappend\u001b[0m\u001b[0;34m(\u001b[0m\u001b[0mmoran_I\u001b[0m\u001b[0;34m)\u001b[0m\u001b[0;34m\u001b[0m\u001b[0;34m\u001b[0m\u001b[0m\n\u001b[1;32m     14\u001b[0m \u001b[0;34m\u001b[0m\u001b[0m\n",
            "\u001b[0;32m/usr/local/lib/python3.10/dist-packages/esda/moran.py\u001b[0m in \u001b[0;36m__init__\u001b[0;34m(self, y, w, transformation, permutations, two_tailed)\u001b[0m\n\u001b[1;32m    163\u001b[0m         \u001b[0mself\u001b[0m\u001b[0;34m.\u001b[0m\u001b[0mw\u001b[0m \u001b[0;34m=\u001b[0m \u001b[0mw\u001b[0m\u001b[0;34m\u001b[0m\u001b[0;34m\u001b[0m\u001b[0m\n\u001b[1;32m    164\u001b[0m         \u001b[0mself\u001b[0m\u001b[0;34m.\u001b[0m\u001b[0mpermutations\u001b[0m \u001b[0;34m=\u001b[0m \u001b[0mpermutations\u001b[0m\u001b[0;34m\u001b[0m\u001b[0;34m\u001b[0m\u001b[0m\n\u001b[0;32m--> 165\u001b[0;31m         \u001b[0mself\u001b[0m\u001b[0;34m.\u001b[0m\u001b[0m__moments\u001b[0m\u001b[0;34m(\u001b[0m\u001b[0;34m)\u001b[0m\u001b[0;34m\u001b[0m\u001b[0;34m\u001b[0m\u001b[0m\n\u001b[0m\u001b[1;32m    166\u001b[0m         \u001b[0mself\u001b[0m\u001b[0;34m.\u001b[0m\u001b[0mI\u001b[0m \u001b[0;34m=\u001b[0m \u001b[0mself\u001b[0m\u001b[0;34m.\u001b[0m\u001b[0m__calc\u001b[0m\u001b[0;34m(\u001b[0m\u001b[0mself\u001b[0m\u001b[0;34m.\u001b[0m\u001b[0mz\u001b[0m\u001b[0;34m)\u001b[0m  \u001b[0;31m# noqa E741\u001b[0m\u001b[0;34m\u001b[0m\u001b[0;34m\u001b[0m\u001b[0m\n\u001b[1;32m    167\u001b[0m         \u001b[0mself\u001b[0m\u001b[0;34m.\u001b[0m\u001b[0mz_norm\u001b[0m \u001b[0;34m=\u001b[0m \u001b[0;34m(\u001b[0m\u001b[0mself\u001b[0m\u001b[0;34m.\u001b[0m\u001b[0mI\u001b[0m \u001b[0;34m-\u001b[0m \u001b[0mself\u001b[0m\u001b[0;34m.\u001b[0m\u001b[0mEI\u001b[0m\u001b[0;34m)\u001b[0m \u001b[0;34m/\u001b[0m \u001b[0mself\u001b[0m\u001b[0;34m.\u001b[0m\u001b[0mseI_norm\u001b[0m\u001b[0;34m\u001b[0m\u001b[0;34m\u001b[0m\u001b[0m\n",
            "\u001b[0;32m/usr/local/lib/python3.10/dist-packages/esda/moran.py\u001b[0m in \u001b[0;36m__moments\u001b[0;34m(self)\u001b[0m\n\u001b[1;32m    211\u001b[0m         \u001b[0mn\u001b[0m \u001b[0;34m=\u001b[0m \u001b[0mself\u001b[0m\u001b[0;34m.\u001b[0m\u001b[0mn\u001b[0m\u001b[0;34m\u001b[0m\u001b[0;34m\u001b[0m\u001b[0m\n\u001b[1;32m    212\u001b[0m         \u001b[0mn2\u001b[0m \u001b[0;34m=\u001b[0m \u001b[0mn\u001b[0m \u001b[0;34m*\u001b[0m \u001b[0mn\u001b[0m\u001b[0;34m\u001b[0m\u001b[0;34m\u001b[0m\u001b[0m\n\u001b[0;32m--> 213\u001b[0;31m         \u001b[0ms1\u001b[0m \u001b[0;34m=\u001b[0m \u001b[0mself\u001b[0m\u001b[0;34m.\u001b[0m\u001b[0mw\u001b[0m\u001b[0;34m.\u001b[0m\u001b[0ms1\u001b[0m\u001b[0;34m\u001b[0m\u001b[0;34m\u001b[0m\u001b[0m\n\u001b[0m\u001b[1;32m    214\u001b[0m         \u001b[0ms0\u001b[0m \u001b[0;34m=\u001b[0m \u001b[0mself\u001b[0m\u001b[0;34m.\u001b[0m\u001b[0mw\u001b[0m\u001b[0;34m.\u001b[0m\u001b[0ms0\u001b[0m\u001b[0;34m\u001b[0m\u001b[0;34m\u001b[0m\u001b[0m\n\u001b[1;32m    215\u001b[0m         \u001b[0ms2\u001b[0m \u001b[0;34m=\u001b[0m \u001b[0mself\u001b[0m\u001b[0;34m.\u001b[0m\u001b[0mw\u001b[0m\u001b[0;34m.\u001b[0m\u001b[0ms2\u001b[0m\u001b[0;34m\u001b[0m\u001b[0;34m\u001b[0m\u001b[0m\n",
            "\u001b[0;31mAttributeError\u001b[0m: 'WSP' object has no attribute 's1'"
          ]
        }
      ]
    }
  ]
}