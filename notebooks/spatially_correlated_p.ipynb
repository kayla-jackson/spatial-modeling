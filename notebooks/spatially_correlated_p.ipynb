{
  "nbformat": 4,
  "nbformat_minor": 0,
  "metadata": {
    "colab": {
      "provenance": [],
      "authorship_tag": "ABX9TyPA40WoKIv54aiEeWV6CQdP",
      "include_colab_link": true
    },
    "kernelspec": {
      "name": "python3",
      "display_name": "Python 3"
    },
    "language_info": {
      "name": "python"
    }
  },
  "cells": [
    {
      "cell_type": "markdown",
      "metadata": {
        "id": "view-in-github",
        "colab_type": "text"
      },
      "source": [
        "<a href=\"https://colab.research.google.com/github/kayla-jackson/spatial-modeling/blob/test-exploratory-sims/notebooks/spatially_correlated_p.ipynb\" target=\"_parent\"><img src=\"https://colab.research.google.com/assets/colab-badge.svg\" alt=\"Open In Colab\"/></a>"
      ]
    },
    {
      "cell_type": "code",
      "source": [
        "import numpy as np\n",
        "import matplotlib.pyplot as plt"
      ],
      "metadata": {
        "id": "CzW2bVtiIAOF"
      },
      "execution_count": 3,
      "outputs": []
    },
    {
      "cell_type": "code",
      "source": [
        "# Helper functions to generate a sample from MVN(0, sigma)\n",
        "\n",
        "def adjacency_matrix(A):\n",
        "    '''Returns the adjacency matrix W from A, a NumPy array'''\n",
        "    rows, cols = len(A), len(A[0])\n",
        "    locs = rows * cols # number of spatial locations on the grid\n",
        "    W = np.zeros((locs, locs), dtype=int)\n",
        "\n",
        "    # Iterate through each element in A to determine number of neighbors\n",
        "    for r in range(rows):\n",
        "        for c in range(cols):\n",
        "            for dr, dc in [(-1,0),(1,0),(0,-1),(0,1)]:\n",
        "                if 0 <= r + dr < rows and 0 <= c + dc < cols:\n",
        "                    W[r * cols + c][(r + dr) * cols + c + dc] = 1\n",
        "\n",
        "    return W\n",
        "\n",
        "def sum_adjacency_matrix(W):\n",
        "    '''Outputs matrix D with same dimensions as W;\n",
        "    Sums the number of neighbors of the original points'''\n",
        "    return np.diag(np.sum(W, axis=1))\n",
        "\n",
        "def compute_sigma(A, alpha, tau):\n",
        "    '''Outputs the covariance matrix termed sigma from original matrix A'''\n",
        "    W = adjacency_matrix(A)\n",
        "    D = sum_adjacency_matrix(W)\n",
        "\n",
        "    Q = tau * (D - alpha * W) # the formula\n",
        "    return np.linalg.inv(Q)"
      ],
      "metadata": {
        "id": "K4EenNGqINEr"
      },
      "execution_count": 21,
      "outputs": []
    },
    {
      "cell_type": "code",
      "source": [
        "# Testing the functions\n",
        "\n",
        "A = np.array([[1,2,3],[4,5,6],[7,8,9]])\n",
        "W = adjacency_matrix(A)\n",
        "D = sum_adjacency_matrix(W)\n",
        "sigma = compute_sigma(A, 0.99, 1)\n",
        "\n",
        "print(f'W: {W}')\n",
        "print(f'D: {D}')\n",
        "print(f'Sigma: {sigma}')"
      ],
      "metadata": {
        "id": "tcIQIIcvPv1X",
        "outputId": "dd1c7934-9586-4c96-f6c5-8bc21110490a",
        "colab": {
          "base_uri": "https://localhost:8080/"
        }
      },
      "execution_count": 22,
      "outputs": [
        {
          "output_type": "stream",
          "name": "stdout",
          "text": [
            "W: [[0 1 0 1 0 0 0 0 0]\n",
            " [1 0 1 0 1 0 0 0 0]\n",
            " [0 1 0 0 0 1 0 0 0]\n",
            " [1 0 0 0 1 0 1 0 0]\n",
            " [0 1 0 1 0 1 0 1 0]\n",
            " [0 0 1 0 1 0 0 0 1]\n",
            " [0 0 0 1 0 0 0 1 0]\n",
            " [0 0 0 0 1 0 1 0 1]\n",
            " [0 0 0 0 0 1 0 1 0]]\n",
            "D: [[2 0 0 0 0 0 0 0 0]\n",
            " [0 3 0 0 0 0 0 0 0]\n",
            " [0 0 2 0 0 0 0 0 0]\n",
            " [0 0 0 3 0 0 0 0 0]\n",
            " [0 0 0 0 4 0 0 0 0]\n",
            " [0 0 0 0 0 3 0 0 0]\n",
            " [0 0 0 0 0 0 2 0 0]\n",
            " [0 0 0 0 0 0 0 3 0]\n",
            " [0 0 0 0 0 0 0 0 2]]\n",
            "Sigma: [[4.72557687 4.26825946 4.10427136 4.26825946 4.10427136 4.02319782\n",
            "  4.10427136 4.02319782 3.98296585]\n",
            " [4.26825946 4.51847503 4.26825946 4.10427136 4.14572864 4.10427136\n",
            "  4.02319782 4.02340102 4.02319782]\n",
            " [4.10427136 4.26825946 4.72557687 4.02319782 4.10427136 4.26825946\n",
            "  3.98296585 4.02319782 4.10427136]\n",
            " [4.26825946 4.10427136 4.02319782 4.51847503 4.14572864 4.02340102\n",
            "  4.26825946 4.10427136 4.02319782]\n",
            " [4.10427136 4.14572864 4.10427136 4.14572864 4.35427136 4.14572864\n",
            "  4.10427136 4.14572864 4.10427136]\n",
            " [4.02319782 4.10427136 4.26825946 4.02340102 4.14572864 4.51847503\n",
            "  4.02319782 4.10427136 4.26825946]\n",
            " [4.10427136 4.02319782 3.98296585 4.26825946 4.10427136 4.02319782\n",
            "  4.72557687 4.26825946 4.10427136]\n",
            " [4.02319782 4.02340102 4.02319782 4.10427136 4.14572864 4.10427136\n",
            "  4.26825946 4.51847503 4.26825946]\n",
            " [3.98296585 4.02319782 4.10427136 4.02319782 4.10427136 4.26825946\n",
            "  4.10427136 4.26825946 4.72557687]]\n"
          ]
        }
      ]
    },
    {
      "cell_type": "code",
      "source": [
        "# With the full 10x10 grid:\n",
        "\n",
        "A = np.zeros((10,10), dtype=int)\n",
        "W = adjacency_matrix(A)\n",
        "D = sum_adjacency_matrix(W)\n",
        "sigma = compute_sigma(A, 0.99, 1)\n",
        "\n",
        "print(f'W: {W}')\n",
        "print(f'D: {D}')\n",
        "print(f'Sigma: {sigma}')"
      ],
      "metadata": {
        "id": "vh7eULYARh1h",
        "outputId": "29576637-fcbf-4d61-dc82-37c9cf6ea172",
        "colab": {
          "base_uri": "https://localhost:8080/"
        }
      },
      "execution_count": 23,
      "outputs": [
        {
          "output_type": "stream",
          "name": "stdout",
          "text": [
            "W: [[0 1 0 ... 0 0 0]\n",
            " [1 0 1 ... 0 0 0]\n",
            " [0 1 0 ... 0 0 0]\n",
            " ...\n",
            " [0 0 0 ... 0 1 0]\n",
            " [0 0 0 ... 1 0 1]\n",
            " [0 0 0 ... 0 1 0]]\n",
            "D: [[2 0 0 ... 0 0 0]\n",
            " [0 3 0 ... 0 0 0]\n",
            " [0 0 3 ... 0 0 0]\n",
            " ...\n",
            " [0 0 0 ... 3 0 0]\n",
            " [0 0 0 ... 0 3 0]\n",
            " [0 0 0 ... 0 0 2]]\n",
            "Sigma: [[1.44637106 0.95593036 0.68112832 ... 0.14572908 0.1416529  0.14023637]\n",
            " [0.95593036 1.16191315 0.77788798 ... 0.14658889 0.14288171 0.1416529 ]\n",
            " [0.68112832 0.77788798 1.04330611 ... 0.14958705 0.14658889 0.14572908]\n",
            " ...\n",
            " [0.14572908 0.14658889 0.14958705 ... 1.04330611 0.77788798 0.68112832]\n",
            " [0.1416529  0.14288171 0.14658889 ... 0.77788798 1.16191315 0.95593036]\n",
            " [0.14023637 0.1416529  0.14572908 ... 0.68112832 0.95593036 1.44637106]]\n"
          ]
        }
      ]
    }
  ]
}