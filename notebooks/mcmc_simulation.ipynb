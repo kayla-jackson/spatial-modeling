{
  "nbformat": 4,
  "nbformat_minor": 0,
  "metadata": {
    "colab": {
      "provenance": [],
      "include_colab_link": true
    },
    "kernelspec": {
      "name": "python3",
      "display_name": "Python 3"
    },
    "language_info": {
      "name": "python"
    },
    "widgets": {
      "application/vnd.jupyter.widget-state+json": {
        "a4da908a8efb4d85846439fb7b5e9d52": {
          "model_module": "@jupyter-widgets/controls",
          "model_name": "HBoxModel",
          "model_module_version": "1.5.0",
          "state": {
            "_dom_classes": [],
            "_model_module": "@jupyter-widgets/controls",
            "_model_module_version": "1.5.0",
            "_model_name": "HBoxModel",
            "_view_count": null,
            "_view_module": "@jupyter-widgets/controls",
            "_view_module_version": "1.5.0",
            "_view_name": "HBoxView",
            "box_style": "",
            "children": [
              "IPY_MODEL_4ef61e8b674e47ba9ae7cf3ac33c8502",
              "IPY_MODEL_cba4cab1007c4f0ea6a743f343c172c2",
              "IPY_MODEL_afbdf53d61a5436cac3cc7cd82defcc8"
            ],
            "layout": "IPY_MODEL_09624465e02d4802bc9856518e87858c"
          }
        },
        "4ef61e8b674e47ba9ae7cf3ac33c8502": {
          "model_module": "@jupyter-widgets/controls",
          "model_name": "HTMLModel",
          "model_module_version": "1.5.0",
          "state": {
            "_dom_classes": [],
            "_model_module": "@jupyter-widgets/controls",
            "_model_module_version": "1.5.0",
            "_model_name": "HTMLModel",
            "_view_count": null,
            "_view_module": "@jupyter-widgets/controls",
            "_view_module_version": "1.5.0",
            "_view_name": "HTMLView",
            "description": "",
            "description_tooltip": null,
            "layout": "IPY_MODEL_4c63a09257f6417fb166ee8804db9bec",
            "placeholder": "​",
            "style": "IPY_MODEL_c13a630b73584498bc5a72c1ab614a94",
            "value": "chain 1 "
          }
        },
        "cba4cab1007c4f0ea6a743f343c172c2": {
          "model_module": "@jupyter-widgets/controls",
          "model_name": "FloatProgressModel",
          "model_module_version": "1.5.0",
          "state": {
            "_dom_classes": [],
            "_model_module": "@jupyter-widgets/controls",
            "_model_module_version": "1.5.0",
            "_model_name": "FloatProgressModel",
            "_view_count": null,
            "_view_module": "@jupyter-widgets/controls",
            "_view_module_version": "1.5.0",
            "_view_name": "ProgressView",
            "bar_style": "success",
            "description": "",
            "description_tooltip": null,
            "layout": "IPY_MODEL_e444a9a8ec21490d9ed5d45b52054c5d",
            "max": 22,
            "min": 0,
            "orientation": "horizontal",
            "style": "IPY_MODEL_91b6dbdd678b42eea2767214cb958b72",
            "value": 22
          }
        },
        "afbdf53d61a5436cac3cc7cd82defcc8": {
          "model_module": "@jupyter-widgets/controls",
          "model_name": "HTMLModel",
          "model_module_version": "1.5.0",
          "state": {
            "_dom_classes": [],
            "_model_module": "@jupyter-widgets/controls",
            "_model_module_version": "1.5.0",
            "_model_name": "HTMLModel",
            "_view_count": null,
            "_view_module": "@jupyter-widgets/controls",
            "_view_module_version": "1.5.0",
            "_view_name": "HTMLView",
            "description": "",
            "description_tooltip": null,
            "layout": "IPY_MODEL_fbc8489bc4b74a7d9603b7e7fc8e9f35",
            "placeholder": "​",
            "style": "IPY_MODEL_e8514466fe7a40c6a711c627f2b6f766",
            "value": " 00:51 Sampling completed"
          }
        },
        "09624465e02d4802bc9856518e87858c": {
          "model_module": "@jupyter-widgets/base",
          "model_name": "LayoutModel",
          "model_module_version": "1.2.0",
          "state": {
            "_model_module": "@jupyter-widgets/base",
            "_model_module_version": "1.2.0",
            "_model_name": "LayoutModel",
            "_view_count": null,
            "_view_module": "@jupyter-widgets/base",
            "_view_module_version": "1.2.0",
            "_view_name": "LayoutView",
            "align_content": null,
            "align_items": null,
            "align_self": null,
            "border": null,
            "bottom": null,
            "display": null,
            "flex": null,
            "flex_flow": null,
            "grid_area": null,
            "grid_auto_columns": null,
            "grid_auto_flow": null,
            "grid_auto_rows": null,
            "grid_column": null,
            "grid_gap": null,
            "grid_row": null,
            "grid_template_areas": null,
            "grid_template_columns": null,
            "grid_template_rows": null,
            "height": null,
            "justify_content": null,
            "justify_items": null,
            "left": null,
            "margin": null,
            "max_height": null,
            "max_width": null,
            "min_height": null,
            "min_width": null,
            "object_fit": null,
            "object_position": null,
            "order": null,
            "overflow": null,
            "overflow_x": null,
            "overflow_y": null,
            "padding": null,
            "right": null,
            "top": null,
            "visibility": null,
            "width": null
          }
        },
        "4c63a09257f6417fb166ee8804db9bec": {
          "model_module": "@jupyter-widgets/base",
          "model_name": "LayoutModel",
          "model_module_version": "1.2.0",
          "state": {
            "_model_module": "@jupyter-widgets/base",
            "_model_module_version": "1.2.0",
            "_model_name": "LayoutModel",
            "_view_count": null,
            "_view_module": "@jupyter-widgets/base",
            "_view_module_version": "1.2.0",
            "_view_name": "LayoutView",
            "align_content": null,
            "align_items": null,
            "align_self": null,
            "border": null,
            "bottom": null,
            "display": null,
            "flex": null,
            "flex_flow": null,
            "grid_area": null,
            "grid_auto_columns": null,
            "grid_auto_flow": null,
            "grid_auto_rows": null,
            "grid_column": null,
            "grid_gap": null,
            "grid_row": null,
            "grid_template_areas": null,
            "grid_template_columns": null,
            "grid_template_rows": null,
            "height": null,
            "justify_content": null,
            "justify_items": null,
            "left": null,
            "margin": null,
            "max_height": null,
            "max_width": null,
            "min_height": null,
            "min_width": null,
            "object_fit": null,
            "object_position": null,
            "order": null,
            "overflow": null,
            "overflow_x": null,
            "overflow_y": null,
            "padding": null,
            "right": null,
            "top": null,
            "visibility": null,
            "width": null
          }
        },
        "c13a630b73584498bc5a72c1ab614a94": {
          "model_module": "@jupyter-widgets/controls",
          "model_name": "DescriptionStyleModel",
          "model_module_version": "1.5.0",
          "state": {
            "_model_module": "@jupyter-widgets/controls",
            "_model_module_version": "1.5.0",
            "_model_name": "DescriptionStyleModel",
            "_view_count": null,
            "_view_module": "@jupyter-widgets/base",
            "_view_module_version": "1.2.0",
            "_view_name": "StyleView",
            "description_width": ""
          }
        },
        "e444a9a8ec21490d9ed5d45b52054c5d": {
          "model_module": "@jupyter-widgets/base",
          "model_name": "LayoutModel",
          "model_module_version": "1.2.0",
          "state": {
            "_model_module": "@jupyter-widgets/base",
            "_model_module_version": "1.2.0",
            "_model_name": "LayoutModel",
            "_view_count": null,
            "_view_module": "@jupyter-widgets/base",
            "_view_module_version": "1.2.0",
            "_view_name": "LayoutView",
            "align_content": null,
            "align_items": null,
            "align_self": null,
            "border": null,
            "bottom": null,
            "display": null,
            "flex": null,
            "flex_flow": null,
            "grid_area": null,
            "grid_auto_columns": null,
            "grid_auto_flow": null,
            "grid_auto_rows": null,
            "grid_column": null,
            "grid_gap": null,
            "grid_row": null,
            "grid_template_areas": null,
            "grid_template_columns": null,
            "grid_template_rows": null,
            "height": null,
            "justify_content": null,
            "justify_items": null,
            "left": null,
            "margin": null,
            "max_height": null,
            "max_width": null,
            "min_height": null,
            "min_width": null,
            "object_fit": null,
            "object_position": null,
            "order": null,
            "overflow": null,
            "overflow_x": null,
            "overflow_y": null,
            "padding": null,
            "right": null,
            "top": null,
            "visibility": null,
            "width": null
          }
        },
        "91b6dbdd678b42eea2767214cb958b72": {
          "model_module": "@jupyter-widgets/controls",
          "model_name": "ProgressStyleModel",
          "model_module_version": "1.5.0",
          "state": {
            "_model_module": "@jupyter-widgets/controls",
            "_model_module_version": "1.5.0",
            "_model_name": "ProgressStyleModel",
            "_view_count": null,
            "_view_module": "@jupyter-widgets/base",
            "_view_module_version": "1.2.0",
            "_view_name": "StyleView",
            "bar_color": "blue",
            "description_width": ""
          }
        },
        "fbc8489bc4b74a7d9603b7e7fc8e9f35": {
          "model_module": "@jupyter-widgets/base",
          "model_name": "LayoutModel",
          "model_module_version": "1.2.0",
          "state": {
            "_model_module": "@jupyter-widgets/base",
            "_model_module_version": "1.2.0",
            "_model_name": "LayoutModel",
            "_view_count": null,
            "_view_module": "@jupyter-widgets/base",
            "_view_module_version": "1.2.0",
            "_view_name": "LayoutView",
            "align_content": null,
            "align_items": null,
            "align_self": null,
            "border": null,
            "bottom": null,
            "display": null,
            "flex": null,
            "flex_flow": null,
            "grid_area": null,
            "grid_auto_columns": null,
            "grid_auto_flow": null,
            "grid_auto_rows": null,
            "grid_column": null,
            "grid_gap": null,
            "grid_row": null,
            "grid_template_areas": null,
            "grid_template_columns": null,
            "grid_template_rows": null,
            "height": null,
            "justify_content": null,
            "justify_items": null,
            "left": null,
            "margin": null,
            "max_height": null,
            "max_width": null,
            "min_height": null,
            "min_width": null,
            "object_fit": null,
            "object_position": null,
            "order": null,
            "overflow": null,
            "overflow_x": null,
            "overflow_y": null,
            "padding": null,
            "right": null,
            "top": null,
            "visibility": null,
            "width": null
          }
        },
        "e8514466fe7a40c6a711c627f2b6f766": {
          "model_module": "@jupyter-widgets/controls",
          "model_name": "DescriptionStyleModel",
          "model_module_version": "1.5.0",
          "state": {
            "_model_module": "@jupyter-widgets/controls",
            "_model_module_version": "1.5.0",
            "_model_name": "DescriptionStyleModel",
            "_view_count": null,
            "_view_module": "@jupyter-widgets/base",
            "_view_module_version": "1.2.0",
            "_view_name": "StyleView",
            "description_width": ""
          }
        },
        "da0ca48396ba4d80aada6c07e69ebbd5": {
          "model_module": "@jupyter-widgets/controls",
          "model_name": "HBoxModel",
          "model_module_version": "1.5.0",
          "state": {
            "_dom_classes": [],
            "_model_module": "@jupyter-widgets/controls",
            "_model_module_version": "1.5.0",
            "_model_name": "HBoxModel",
            "_view_count": null,
            "_view_module": "@jupyter-widgets/controls",
            "_view_module_version": "1.5.0",
            "_view_name": "HBoxView",
            "box_style": "",
            "children": [
              "IPY_MODEL_24ba19cc0a89453e8f51da1eafb27a05",
              "IPY_MODEL_7ce64d15a64a4e2fad3e97787ce96a93",
              "IPY_MODEL_485c8f1a59204b33bab7e721f9308947"
            ],
            "layout": "IPY_MODEL_e11c7cd550784707be8984a68cf39495"
          }
        },
        "24ba19cc0a89453e8f51da1eafb27a05": {
          "model_module": "@jupyter-widgets/controls",
          "model_name": "HTMLModel",
          "model_module_version": "1.5.0",
          "state": {
            "_dom_classes": [],
            "_model_module": "@jupyter-widgets/controls",
            "_model_module_version": "1.5.0",
            "_model_name": "HTMLModel",
            "_view_count": null,
            "_view_module": "@jupyter-widgets/controls",
            "_view_module_version": "1.5.0",
            "_view_name": "HTMLView",
            "description": "",
            "description_tooltip": null,
            "layout": "IPY_MODEL_5626155ef08f47f0a42f1d73329db9e3",
            "placeholder": "​",
            "style": "IPY_MODEL_78bb386ec02f40138a11a10580ef401b",
            "value": "chain 2 "
          }
        },
        "7ce64d15a64a4e2fad3e97787ce96a93": {
          "model_module": "@jupyter-widgets/controls",
          "model_name": "FloatProgressModel",
          "model_module_version": "1.5.0",
          "state": {
            "_dom_classes": [],
            "_model_module": "@jupyter-widgets/controls",
            "_model_module_version": "1.5.0",
            "_model_name": "FloatProgressModel",
            "_view_count": null,
            "_view_module": "@jupyter-widgets/controls",
            "_view_module_version": "1.5.0",
            "_view_name": "ProgressView",
            "bar_style": "success",
            "description": "",
            "description_tooltip": null,
            "layout": "IPY_MODEL_a588947e1c80405094b94b90e339e830",
            "max": 22,
            "min": 0,
            "orientation": "horizontal",
            "style": "IPY_MODEL_0df904afbc9d4c0aaa08af9ce17f48b7",
            "value": 22
          }
        },
        "485c8f1a59204b33bab7e721f9308947": {
          "model_module": "@jupyter-widgets/controls",
          "model_name": "HTMLModel",
          "model_module_version": "1.5.0",
          "state": {
            "_dom_classes": [],
            "_model_module": "@jupyter-widgets/controls",
            "_model_module_version": "1.5.0",
            "_model_name": "HTMLModel",
            "_view_count": null,
            "_view_module": "@jupyter-widgets/controls",
            "_view_module_version": "1.5.0",
            "_view_name": "HTMLView",
            "description": "",
            "description_tooltip": null,
            "layout": "IPY_MODEL_dee709a640b946299f76da792878ce6e",
            "placeholder": "​",
            "style": "IPY_MODEL_04ea697ea2b9439bb4e60c287331e7c1",
            "value": " 00:51 Sampling completed"
          }
        },
        "e11c7cd550784707be8984a68cf39495": {
          "model_module": "@jupyter-widgets/base",
          "model_name": "LayoutModel",
          "model_module_version": "1.2.0",
          "state": {
            "_model_module": "@jupyter-widgets/base",
            "_model_module_version": "1.2.0",
            "_model_name": "LayoutModel",
            "_view_count": null,
            "_view_module": "@jupyter-widgets/base",
            "_view_module_version": "1.2.0",
            "_view_name": "LayoutView",
            "align_content": null,
            "align_items": null,
            "align_self": null,
            "border": null,
            "bottom": null,
            "display": null,
            "flex": null,
            "flex_flow": null,
            "grid_area": null,
            "grid_auto_columns": null,
            "grid_auto_flow": null,
            "grid_auto_rows": null,
            "grid_column": null,
            "grid_gap": null,
            "grid_row": null,
            "grid_template_areas": null,
            "grid_template_columns": null,
            "grid_template_rows": null,
            "height": null,
            "justify_content": null,
            "justify_items": null,
            "left": null,
            "margin": null,
            "max_height": null,
            "max_width": null,
            "min_height": null,
            "min_width": null,
            "object_fit": null,
            "object_position": null,
            "order": null,
            "overflow": null,
            "overflow_x": null,
            "overflow_y": null,
            "padding": null,
            "right": null,
            "top": null,
            "visibility": null,
            "width": null
          }
        },
        "5626155ef08f47f0a42f1d73329db9e3": {
          "model_module": "@jupyter-widgets/base",
          "model_name": "LayoutModel",
          "model_module_version": "1.2.0",
          "state": {
            "_model_module": "@jupyter-widgets/base",
            "_model_module_version": "1.2.0",
            "_model_name": "LayoutModel",
            "_view_count": null,
            "_view_module": "@jupyter-widgets/base",
            "_view_module_version": "1.2.0",
            "_view_name": "LayoutView",
            "align_content": null,
            "align_items": null,
            "align_self": null,
            "border": null,
            "bottom": null,
            "display": null,
            "flex": null,
            "flex_flow": null,
            "grid_area": null,
            "grid_auto_columns": null,
            "grid_auto_flow": null,
            "grid_auto_rows": null,
            "grid_column": null,
            "grid_gap": null,
            "grid_row": null,
            "grid_template_areas": null,
            "grid_template_columns": null,
            "grid_template_rows": null,
            "height": null,
            "justify_content": null,
            "justify_items": null,
            "left": null,
            "margin": null,
            "max_height": null,
            "max_width": null,
            "min_height": null,
            "min_width": null,
            "object_fit": null,
            "object_position": null,
            "order": null,
            "overflow": null,
            "overflow_x": null,
            "overflow_y": null,
            "padding": null,
            "right": null,
            "top": null,
            "visibility": null,
            "width": null
          }
        },
        "78bb386ec02f40138a11a10580ef401b": {
          "model_module": "@jupyter-widgets/controls",
          "model_name": "DescriptionStyleModel",
          "model_module_version": "1.5.0",
          "state": {
            "_model_module": "@jupyter-widgets/controls",
            "_model_module_version": "1.5.0",
            "_model_name": "DescriptionStyleModel",
            "_view_count": null,
            "_view_module": "@jupyter-widgets/base",
            "_view_module_version": "1.2.0",
            "_view_name": "StyleView",
            "description_width": ""
          }
        },
        "a588947e1c80405094b94b90e339e830": {
          "model_module": "@jupyter-widgets/base",
          "model_name": "LayoutModel",
          "model_module_version": "1.2.0",
          "state": {
            "_model_module": "@jupyter-widgets/base",
            "_model_module_version": "1.2.0",
            "_model_name": "LayoutModel",
            "_view_count": null,
            "_view_module": "@jupyter-widgets/base",
            "_view_module_version": "1.2.0",
            "_view_name": "LayoutView",
            "align_content": null,
            "align_items": null,
            "align_self": null,
            "border": null,
            "bottom": null,
            "display": null,
            "flex": null,
            "flex_flow": null,
            "grid_area": null,
            "grid_auto_columns": null,
            "grid_auto_flow": null,
            "grid_auto_rows": null,
            "grid_column": null,
            "grid_gap": null,
            "grid_row": null,
            "grid_template_areas": null,
            "grid_template_columns": null,
            "grid_template_rows": null,
            "height": null,
            "justify_content": null,
            "justify_items": null,
            "left": null,
            "margin": null,
            "max_height": null,
            "max_width": null,
            "min_height": null,
            "min_width": null,
            "object_fit": null,
            "object_position": null,
            "order": null,
            "overflow": null,
            "overflow_x": null,
            "overflow_y": null,
            "padding": null,
            "right": null,
            "top": null,
            "visibility": null,
            "width": null
          }
        },
        "0df904afbc9d4c0aaa08af9ce17f48b7": {
          "model_module": "@jupyter-widgets/controls",
          "model_name": "ProgressStyleModel",
          "model_module_version": "1.5.0",
          "state": {
            "_model_module": "@jupyter-widgets/controls",
            "_model_module_version": "1.5.0",
            "_model_name": "ProgressStyleModel",
            "_view_count": null,
            "_view_module": "@jupyter-widgets/base",
            "_view_module_version": "1.2.0",
            "_view_name": "StyleView",
            "bar_color": "blue",
            "description_width": ""
          }
        },
        "dee709a640b946299f76da792878ce6e": {
          "model_module": "@jupyter-widgets/base",
          "model_name": "LayoutModel",
          "model_module_version": "1.2.0",
          "state": {
            "_model_module": "@jupyter-widgets/base",
            "_model_module_version": "1.2.0",
            "_model_name": "LayoutModel",
            "_view_count": null,
            "_view_module": "@jupyter-widgets/base",
            "_view_module_version": "1.2.0",
            "_view_name": "LayoutView",
            "align_content": null,
            "align_items": null,
            "align_self": null,
            "border": null,
            "bottom": null,
            "display": null,
            "flex": null,
            "flex_flow": null,
            "grid_area": null,
            "grid_auto_columns": null,
            "grid_auto_flow": null,
            "grid_auto_rows": null,
            "grid_column": null,
            "grid_gap": null,
            "grid_row": null,
            "grid_template_areas": null,
            "grid_template_columns": null,
            "grid_template_rows": null,
            "height": null,
            "justify_content": null,
            "justify_items": null,
            "left": null,
            "margin": null,
            "max_height": null,
            "max_width": null,
            "min_height": null,
            "min_width": null,
            "object_fit": null,
            "object_position": null,
            "order": null,
            "overflow": null,
            "overflow_x": null,
            "overflow_y": null,
            "padding": null,
            "right": null,
            "top": null,
            "visibility": null,
            "width": null
          }
        },
        "04ea697ea2b9439bb4e60c287331e7c1": {
          "model_module": "@jupyter-widgets/controls",
          "model_name": "DescriptionStyleModel",
          "model_module_version": "1.5.0",
          "state": {
            "_model_module": "@jupyter-widgets/controls",
            "_model_module_version": "1.5.0",
            "_model_name": "DescriptionStyleModel",
            "_view_count": null,
            "_view_module": "@jupyter-widgets/base",
            "_view_module_version": "1.2.0",
            "_view_name": "StyleView",
            "description_width": ""
          }
        },
        "2cf3a9b779e443f28c806f972557bb7d": {
          "model_module": "@jupyter-widgets/controls",
          "model_name": "HBoxModel",
          "model_module_version": "1.5.0",
          "state": {
            "_dom_classes": [],
            "_model_module": "@jupyter-widgets/controls",
            "_model_module_version": "1.5.0",
            "_model_name": "HBoxModel",
            "_view_count": null,
            "_view_module": "@jupyter-widgets/controls",
            "_view_module_version": "1.5.0",
            "_view_name": "HBoxView",
            "box_style": "",
            "children": [
              "IPY_MODEL_f268a68f72aa45f0b8f6c5a1ff4b88f5",
              "IPY_MODEL_7c85ed683f294da48edbeecf75c0955d",
              "IPY_MODEL_c790249ef28d4bcd968aeeaa9fea5bc9"
            ],
            "layout": "IPY_MODEL_926c993c63a94243839317095f6af7d8"
          }
        },
        "f268a68f72aa45f0b8f6c5a1ff4b88f5": {
          "model_module": "@jupyter-widgets/controls",
          "model_name": "HTMLModel",
          "model_module_version": "1.5.0",
          "state": {
            "_dom_classes": [],
            "_model_module": "@jupyter-widgets/controls",
            "_model_module_version": "1.5.0",
            "_model_name": "HTMLModel",
            "_view_count": null,
            "_view_module": "@jupyter-widgets/controls",
            "_view_module_version": "1.5.0",
            "_view_name": "HTMLView",
            "description": "",
            "description_tooltip": null,
            "layout": "IPY_MODEL_14499804837043199ec96d75c66720ae",
            "placeholder": "​",
            "style": "IPY_MODEL_80eb7cdf4d464b0ea2aa85230f1ac3a8",
            "value": "chain 3 "
          }
        },
        "7c85ed683f294da48edbeecf75c0955d": {
          "model_module": "@jupyter-widgets/controls",
          "model_name": "FloatProgressModel",
          "model_module_version": "1.5.0",
          "state": {
            "_dom_classes": [],
            "_model_module": "@jupyter-widgets/controls",
            "_model_module_version": "1.5.0",
            "_model_name": "FloatProgressModel",
            "_view_count": null,
            "_view_module": "@jupyter-widgets/controls",
            "_view_module_version": "1.5.0",
            "_view_name": "ProgressView",
            "bar_style": "success",
            "description": "",
            "description_tooltip": null,
            "layout": "IPY_MODEL_6e50c9f6425242aca8386dac3ef354dc",
            "max": 22,
            "min": 0,
            "orientation": "horizontal",
            "style": "IPY_MODEL_88a1650699804fc688a238bc2e484d8f",
            "value": 22
          }
        },
        "c790249ef28d4bcd968aeeaa9fea5bc9": {
          "model_module": "@jupyter-widgets/controls",
          "model_name": "HTMLModel",
          "model_module_version": "1.5.0",
          "state": {
            "_dom_classes": [],
            "_model_module": "@jupyter-widgets/controls",
            "_model_module_version": "1.5.0",
            "_model_name": "HTMLModel",
            "_view_count": null,
            "_view_module": "@jupyter-widgets/controls",
            "_view_module_version": "1.5.0",
            "_view_name": "HTMLView",
            "description": "",
            "description_tooltip": null,
            "layout": "IPY_MODEL_f3bdc8a8d2c54624adb7dad26af6d1ca",
            "placeholder": "​",
            "style": "IPY_MODEL_cb8c154e90d8412295b214e18f9cb2d2",
            "value": " 00:51 Sampling completed"
          }
        },
        "926c993c63a94243839317095f6af7d8": {
          "model_module": "@jupyter-widgets/base",
          "model_name": "LayoutModel",
          "model_module_version": "1.2.0",
          "state": {
            "_model_module": "@jupyter-widgets/base",
            "_model_module_version": "1.2.0",
            "_model_name": "LayoutModel",
            "_view_count": null,
            "_view_module": "@jupyter-widgets/base",
            "_view_module_version": "1.2.0",
            "_view_name": "LayoutView",
            "align_content": null,
            "align_items": null,
            "align_self": null,
            "border": null,
            "bottom": null,
            "display": null,
            "flex": null,
            "flex_flow": null,
            "grid_area": null,
            "grid_auto_columns": null,
            "grid_auto_flow": null,
            "grid_auto_rows": null,
            "grid_column": null,
            "grid_gap": null,
            "grid_row": null,
            "grid_template_areas": null,
            "grid_template_columns": null,
            "grid_template_rows": null,
            "height": null,
            "justify_content": null,
            "justify_items": null,
            "left": null,
            "margin": null,
            "max_height": null,
            "max_width": null,
            "min_height": null,
            "min_width": null,
            "object_fit": null,
            "object_position": null,
            "order": null,
            "overflow": null,
            "overflow_x": null,
            "overflow_y": null,
            "padding": null,
            "right": null,
            "top": null,
            "visibility": null,
            "width": null
          }
        },
        "14499804837043199ec96d75c66720ae": {
          "model_module": "@jupyter-widgets/base",
          "model_name": "LayoutModel",
          "model_module_version": "1.2.0",
          "state": {
            "_model_module": "@jupyter-widgets/base",
            "_model_module_version": "1.2.0",
            "_model_name": "LayoutModel",
            "_view_count": null,
            "_view_module": "@jupyter-widgets/base",
            "_view_module_version": "1.2.0",
            "_view_name": "LayoutView",
            "align_content": null,
            "align_items": null,
            "align_self": null,
            "border": null,
            "bottom": null,
            "display": null,
            "flex": null,
            "flex_flow": null,
            "grid_area": null,
            "grid_auto_columns": null,
            "grid_auto_flow": null,
            "grid_auto_rows": null,
            "grid_column": null,
            "grid_gap": null,
            "grid_row": null,
            "grid_template_areas": null,
            "grid_template_columns": null,
            "grid_template_rows": null,
            "height": null,
            "justify_content": null,
            "justify_items": null,
            "left": null,
            "margin": null,
            "max_height": null,
            "max_width": null,
            "min_height": null,
            "min_width": null,
            "object_fit": null,
            "object_position": null,
            "order": null,
            "overflow": null,
            "overflow_x": null,
            "overflow_y": null,
            "padding": null,
            "right": null,
            "top": null,
            "visibility": null,
            "width": null
          }
        },
        "80eb7cdf4d464b0ea2aa85230f1ac3a8": {
          "model_module": "@jupyter-widgets/controls",
          "model_name": "DescriptionStyleModel",
          "model_module_version": "1.5.0",
          "state": {
            "_model_module": "@jupyter-widgets/controls",
            "_model_module_version": "1.5.0",
            "_model_name": "DescriptionStyleModel",
            "_view_count": null,
            "_view_module": "@jupyter-widgets/base",
            "_view_module_version": "1.2.0",
            "_view_name": "StyleView",
            "description_width": ""
          }
        },
        "6e50c9f6425242aca8386dac3ef354dc": {
          "model_module": "@jupyter-widgets/base",
          "model_name": "LayoutModel",
          "model_module_version": "1.2.0",
          "state": {
            "_model_module": "@jupyter-widgets/base",
            "_model_module_version": "1.2.0",
            "_model_name": "LayoutModel",
            "_view_count": null,
            "_view_module": "@jupyter-widgets/base",
            "_view_module_version": "1.2.0",
            "_view_name": "LayoutView",
            "align_content": null,
            "align_items": null,
            "align_self": null,
            "border": null,
            "bottom": null,
            "display": null,
            "flex": null,
            "flex_flow": null,
            "grid_area": null,
            "grid_auto_columns": null,
            "grid_auto_flow": null,
            "grid_auto_rows": null,
            "grid_column": null,
            "grid_gap": null,
            "grid_row": null,
            "grid_template_areas": null,
            "grid_template_columns": null,
            "grid_template_rows": null,
            "height": null,
            "justify_content": null,
            "justify_items": null,
            "left": null,
            "margin": null,
            "max_height": null,
            "max_width": null,
            "min_height": null,
            "min_width": null,
            "object_fit": null,
            "object_position": null,
            "order": null,
            "overflow": null,
            "overflow_x": null,
            "overflow_y": null,
            "padding": null,
            "right": null,
            "top": null,
            "visibility": null,
            "width": null
          }
        },
        "88a1650699804fc688a238bc2e484d8f": {
          "model_module": "@jupyter-widgets/controls",
          "model_name": "ProgressStyleModel",
          "model_module_version": "1.5.0",
          "state": {
            "_model_module": "@jupyter-widgets/controls",
            "_model_module_version": "1.5.0",
            "_model_name": "ProgressStyleModel",
            "_view_count": null,
            "_view_module": "@jupyter-widgets/base",
            "_view_module_version": "1.2.0",
            "_view_name": "StyleView",
            "bar_color": "blue",
            "description_width": ""
          }
        },
        "f3bdc8a8d2c54624adb7dad26af6d1ca": {
          "model_module": "@jupyter-widgets/base",
          "model_name": "LayoutModel",
          "model_module_version": "1.2.0",
          "state": {
            "_model_module": "@jupyter-widgets/base",
            "_model_module_version": "1.2.0",
            "_model_name": "LayoutModel",
            "_view_count": null,
            "_view_module": "@jupyter-widgets/base",
            "_view_module_version": "1.2.0",
            "_view_name": "LayoutView",
            "align_content": null,
            "align_items": null,
            "align_self": null,
            "border": null,
            "bottom": null,
            "display": null,
            "flex": null,
            "flex_flow": null,
            "grid_area": null,
            "grid_auto_columns": null,
            "grid_auto_flow": null,
            "grid_auto_rows": null,
            "grid_column": null,
            "grid_gap": null,
            "grid_row": null,
            "grid_template_areas": null,
            "grid_template_columns": null,
            "grid_template_rows": null,
            "height": null,
            "justify_content": null,
            "justify_items": null,
            "left": null,
            "margin": null,
            "max_height": null,
            "max_width": null,
            "min_height": null,
            "min_width": null,
            "object_fit": null,
            "object_position": null,
            "order": null,
            "overflow": null,
            "overflow_x": null,
            "overflow_y": null,
            "padding": null,
            "right": null,
            "top": null,
            "visibility": null,
            "width": null
          }
        },
        "cb8c154e90d8412295b214e18f9cb2d2": {
          "model_module": "@jupyter-widgets/controls",
          "model_name": "DescriptionStyleModel",
          "model_module_version": "1.5.0",
          "state": {
            "_model_module": "@jupyter-widgets/controls",
            "_model_module_version": "1.5.0",
            "_model_name": "DescriptionStyleModel",
            "_view_count": null,
            "_view_module": "@jupyter-widgets/base",
            "_view_module_version": "1.2.0",
            "_view_name": "StyleView",
            "description_width": ""
          }
        },
        "3286aa21a7d8492095426ed6c119a364": {
          "model_module": "@jupyter-widgets/controls",
          "model_name": "HBoxModel",
          "model_module_version": "1.5.0",
          "state": {
            "_dom_classes": [],
            "_model_module": "@jupyter-widgets/controls",
            "_model_module_version": "1.5.0",
            "_model_name": "HBoxModel",
            "_view_count": null,
            "_view_module": "@jupyter-widgets/controls",
            "_view_module_version": "1.5.0",
            "_view_name": "HBoxView",
            "box_style": "",
            "children": [
              "IPY_MODEL_0c12be9f77a94432b7773247ba507ea4",
              "IPY_MODEL_1fc62958da2b4d7bbf9d457b8aebd03d",
              "IPY_MODEL_29c589f4439a4eeeb9e228493330be28"
            ],
            "layout": "IPY_MODEL_c74f8538c6b74d5291b65e8a0e0827a6"
          }
        },
        "0c12be9f77a94432b7773247ba507ea4": {
          "model_module": "@jupyter-widgets/controls",
          "model_name": "HTMLModel",
          "model_module_version": "1.5.0",
          "state": {
            "_dom_classes": [],
            "_model_module": "@jupyter-widgets/controls",
            "_model_module_version": "1.5.0",
            "_model_name": "HTMLModel",
            "_view_count": null,
            "_view_module": "@jupyter-widgets/controls",
            "_view_module_version": "1.5.0",
            "_view_name": "HTMLView",
            "description": "",
            "description_tooltip": null,
            "layout": "IPY_MODEL_ff94e72106874354b960f02f38aedcf9",
            "placeholder": "​",
            "style": "IPY_MODEL_c4740bad185d4d19a474b7189b015148",
            "value": "chain 4 "
          }
        },
        "1fc62958da2b4d7bbf9d457b8aebd03d": {
          "model_module": "@jupyter-widgets/controls",
          "model_name": "FloatProgressModel",
          "model_module_version": "1.5.0",
          "state": {
            "_dom_classes": [],
            "_model_module": "@jupyter-widgets/controls",
            "_model_module_version": "1.5.0",
            "_model_name": "FloatProgressModel",
            "_view_count": null,
            "_view_module": "@jupyter-widgets/controls",
            "_view_module_version": "1.5.0",
            "_view_name": "ProgressView",
            "bar_style": "success",
            "description": "",
            "description_tooltip": null,
            "layout": "IPY_MODEL_cc84bb32bb7841409636af7e838a37c8",
            "max": 22,
            "min": 0,
            "orientation": "horizontal",
            "style": "IPY_MODEL_6a8d0f8802154fca8c773dd5a2f9b1df",
            "value": 22
          }
        },
        "29c589f4439a4eeeb9e228493330be28": {
          "model_module": "@jupyter-widgets/controls",
          "model_name": "HTMLModel",
          "model_module_version": "1.5.0",
          "state": {
            "_dom_classes": [],
            "_model_module": "@jupyter-widgets/controls",
            "_model_module_version": "1.5.0",
            "_model_name": "HTMLModel",
            "_view_count": null,
            "_view_module": "@jupyter-widgets/controls",
            "_view_module_version": "1.5.0",
            "_view_name": "HTMLView",
            "description": "",
            "description_tooltip": null,
            "layout": "IPY_MODEL_6ab0773e1d2f4156a397e4ea58ee4aaf",
            "placeholder": "​",
            "style": "IPY_MODEL_c91cd7666c3648a5aba8dbf2a00913bd",
            "value": " 00:51 Sampling completed"
          }
        },
        "c74f8538c6b74d5291b65e8a0e0827a6": {
          "model_module": "@jupyter-widgets/base",
          "model_name": "LayoutModel",
          "model_module_version": "1.2.0",
          "state": {
            "_model_module": "@jupyter-widgets/base",
            "_model_module_version": "1.2.0",
            "_model_name": "LayoutModel",
            "_view_count": null,
            "_view_module": "@jupyter-widgets/base",
            "_view_module_version": "1.2.0",
            "_view_name": "LayoutView",
            "align_content": null,
            "align_items": null,
            "align_self": null,
            "border": null,
            "bottom": null,
            "display": null,
            "flex": null,
            "flex_flow": null,
            "grid_area": null,
            "grid_auto_columns": null,
            "grid_auto_flow": null,
            "grid_auto_rows": null,
            "grid_column": null,
            "grid_gap": null,
            "grid_row": null,
            "grid_template_areas": null,
            "grid_template_columns": null,
            "grid_template_rows": null,
            "height": null,
            "justify_content": null,
            "justify_items": null,
            "left": null,
            "margin": null,
            "max_height": null,
            "max_width": null,
            "min_height": null,
            "min_width": null,
            "object_fit": null,
            "object_position": null,
            "order": null,
            "overflow": null,
            "overflow_x": null,
            "overflow_y": null,
            "padding": null,
            "right": null,
            "top": null,
            "visibility": null,
            "width": null
          }
        },
        "ff94e72106874354b960f02f38aedcf9": {
          "model_module": "@jupyter-widgets/base",
          "model_name": "LayoutModel",
          "model_module_version": "1.2.0",
          "state": {
            "_model_module": "@jupyter-widgets/base",
            "_model_module_version": "1.2.0",
            "_model_name": "LayoutModel",
            "_view_count": null,
            "_view_module": "@jupyter-widgets/base",
            "_view_module_version": "1.2.0",
            "_view_name": "LayoutView",
            "align_content": null,
            "align_items": null,
            "align_self": null,
            "border": null,
            "bottom": null,
            "display": null,
            "flex": null,
            "flex_flow": null,
            "grid_area": null,
            "grid_auto_columns": null,
            "grid_auto_flow": null,
            "grid_auto_rows": null,
            "grid_column": null,
            "grid_gap": null,
            "grid_row": null,
            "grid_template_areas": null,
            "grid_template_columns": null,
            "grid_template_rows": null,
            "height": null,
            "justify_content": null,
            "justify_items": null,
            "left": null,
            "margin": null,
            "max_height": null,
            "max_width": null,
            "min_height": null,
            "min_width": null,
            "object_fit": null,
            "object_position": null,
            "order": null,
            "overflow": null,
            "overflow_x": null,
            "overflow_y": null,
            "padding": null,
            "right": null,
            "top": null,
            "visibility": null,
            "width": null
          }
        },
        "c4740bad185d4d19a474b7189b015148": {
          "model_module": "@jupyter-widgets/controls",
          "model_name": "DescriptionStyleModel",
          "model_module_version": "1.5.0",
          "state": {
            "_model_module": "@jupyter-widgets/controls",
            "_model_module_version": "1.5.0",
            "_model_name": "DescriptionStyleModel",
            "_view_count": null,
            "_view_module": "@jupyter-widgets/base",
            "_view_module_version": "1.2.0",
            "_view_name": "StyleView",
            "description_width": ""
          }
        },
        "cc84bb32bb7841409636af7e838a37c8": {
          "model_module": "@jupyter-widgets/base",
          "model_name": "LayoutModel",
          "model_module_version": "1.2.0",
          "state": {
            "_model_module": "@jupyter-widgets/base",
            "_model_module_version": "1.2.0",
            "_model_name": "LayoutModel",
            "_view_count": null,
            "_view_module": "@jupyter-widgets/base",
            "_view_module_version": "1.2.0",
            "_view_name": "LayoutView",
            "align_content": null,
            "align_items": null,
            "align_self": null,
            "border": null,
            "bottom": null,
            "display": null,
            "flex": null,
            "flex_flow": null,
            "grid_area": null,
            "grid_auto_columns": null,
            "grid_auto_flow": null,
            "grid_auto_rows": null,
            "grid_column": null,
            "grid_gap": null,
            "grid_row": null,
            "grid_template_areas": null,
            "grid_template_columns": null,
            "grid_template_rows": null,
            "height": null,
            "justify_content": null,
            "justify_items": null,
            "left": null,
            "margin": null,
            "max_height": null,
            "max_width": null,
            "min_height": null,
            "min_width": null,
            "object_fit": null,
            "object_position": null,
            "order": null,
            "overflow": null,
            "overflow_x": null,
            "overflow_y": null,
            "padding": null,
            "right": null,
            "top": null,
            "visibility": null,
            "width": null
          }
        },
        "6a8d0f8802154fca8c773dd5a2f9b1df": {
          "model_module": "@jupyter-widgets/controls",
          "model_name": "ProgressStyleModel",
          "model_module_version": "1.5.0",
          "state": {
            "_model_module": "@jupyter-widgets/controls",
            "_model_module_version": "1.5.0",
            "_model_name": "ProgressStyleModel",
            "_view_count": null,
            "_view_module": "@jupyter-widgets/base",
            "_view_module_version": "1.2.0",
            "_view_name": "StyleView",
            "bar_color": "blue",
            "description_width": ""
          }
        },
        "6ab0773e1d2f4156a397e4ea58ee4aaf": {
          "model_module": "@jupyter-widgets/base",
          "model_name": "LayoutModel",
          "model_module_version": "1.2.0",
          "state": {
            "_model_module": "@jupyter-widgets/base",
            "_model_module_version": "1.2.0",
            "_model_name": "LayoutModel",
            "_view_count": null,
            "_view_module": "@jupyter-widgets/base",
            "_view_module_version": "1.2.0",
            "_view_name": "LayoutView",
            "align_content": null,
            "align_items": null,
            "align_self": null,
            "border": null,
            "bottom": null,
            "display": null,
            "flex": null,
            "flex_flow": null,
            "grid_area": null,
            "grid_auto_columns": null,
            "grid_auto_flow": null,
            "grid_auto_rows": null,
            "grid_column": null,
            "grid_gap": null,
            "grid_row": null,
            "grid_template_areas": null,
            "grid_template_columns": null,
            "grid_template_rows": null,
            "height": null,
            "justify_content": null,
            "justify_items": null,
            "left": null,
            "margin": null,
            "max_height": null,
            "max_width": null,
            "min_height": null,
            "min_width": null,
            "object_fit": null,
            "object_position": null,
            "order": null,
            "overflow": null,
            "overflow_x": null,
            "overflow_y": null,
            "padding": null,
            "right": null,
            "top": null,
            "visibility": null,
            "width": null
          }
        },
        "c91cd7666c3648a5aba8dbf2a00913bd": {
          "model_module": "@jupyter-widgets/controls",
          "model_name": "DescriptionStyleModel",
          "model_module_version": "1.5.0",
          "state": {
            "_model_module": "@jupyter-widgets/controls",
            "_model_module_version": "1.5.0",
            "_model_name": "DescriptionStyleModel",
            "_view_count": null,
            "_view_module": "@jupyter-widgets/base",
            "_view_module_version": "1.2.0",
            "_view_name": "StyleView",
            "description_width": ""
          }
        }
      }
    }
  },
  "cells": [
    {
      "cell_type": "markdown",
      "metadata": {
        "id": "view-in-github",
        "colab_type": "text"
      },
      "source": [
        "<a href=\"https://colab.research.google.com/github/kayla-jackson/spatial-modeling/blob/test-exploratory-sims/notebooks/mcmc_simulation.ipynb\" target=\"_parent\"><img src=\"https://colab.research.google.com/assets/colab-badge.svg\" alt=\"Open In Colab\"/></a>"
      ]
    },
    {
      "cell_type": "code",
      "source": [
        "# Colab setup ------------------\n",
        "import os, sys, subprocess\n",
        "if \"google.colab\" in sys.modules:\n",
        "    cmd = \"pip install --upgrade iqplot colorcet bebi103 arviz cmdstanpy\"\n",
        "    process = subprocess.Popen(cmd.split(), stdout=subprocess.PIPE, stderr=subprocess.PIPE)\n",
        "    stdout, stderr = process.communicate()\n",
        "    import cmdstanpy; cmdstanpy.install_cmdstan()\n",
        "# ------------------------------\n",
        "\n",
        "!pip install cmdstanpy -U"
      ],
      "metadata": {
        "colab": {
          "base_uri": "https://localhost:8080/"
        },
        "id": "I3Z1cIc_iKEZ",
        "outputId": "ccb0f58d-293d-4e89-f785-1a37673356cf"
      },
      "execution_count": 2,
      "outputs": [
        {
          "output_type": "stream",
          "name": "stdout",
          "text": [
            "CmdStan install directory: /root/.cmdstan\n",
            "Installing CmdStan version: 2.33.1\n",
            "Downloading CmdStan version 2.33.1\n",
            "Download successful, file: /tmp/tmpcdbuio0t\n",
            "Extracting distribution\n"
          ]
        },
        {
          "output_type": "stream",
          "name": "stderr",
          "text": [
            "DEBUG:cmdstanpy:cmd: make build -j1\n",
            "cwd: None\n"
          ]
        },
        {
          "output_type": "stream",
          "name": "stdout",
          "text": [
            "Unpacked download as cmdstan-2.33.1\n",
            "Building version cmdstan-2.33.1, may take several minutes, depending on your system.\n"
          ]
        },
        {
          "output_type": "stream",
          "name": "stderr",
          "text": [
            "DEBUG:cmdstanpy:cmd: make examples/bernoulli/bernoulli\n",
            "cwd: None\n"
          ]
        },
        {
          "output_type": "stream",
          "name": "stdout",
          "text": [
            "Installed cmdstan-2.33.1\n",
            "Test model compilation\n",
            "Requirement already satisfied: cmdstanpy in /usr/local/lib/python3.10/dist-packages (1.2.0)\n",
            "Requirement already satisfied: pandas in /usr/local/lib/python3.10/dist-packages (from cmdstanpy) (1.5.3)\n",
            "Requirement already satisfied: numpy>=1.21 in /usr/local/lib/python3.10/dist-packages (from cmdstanpy) (1.23.5)\n",
            "Requirement already satisfied: tqdm in /usr/local/lib/python3.10/dist-packages (from cmdstanpy) (4.66.1)\n",
            "Requirement already satisfied: stanio~=0.3.0 in /usr/local/lib/python3.10/dist-packages (from cmdstanpy) (0.3.0)\n",
            "Requirement already satisfied: python-dateutil>=2.8.1 in /usr/local/lib/python3.10/dist-packages (from pandas->cmdstanpy) (2.8.2)\n",
            "Requirement already satisfied: pytz>=2020.1 in /usr/local/lib/python3.10/dist-packages (from pandas->cmdstanpy) (2023.3.post1)\n",
            "Requirement already satisfied: six>=1.5 in /usr/local/lib/python3.10/dist-packages (from python-dateutil>=2.8.1->pandas->cmdstanpy) (1.16.0)\n"
          ]
        }
      ]
    },
    {
      "cell_type": "code",
      "source": [
        "# Clone github repo\n",
        "!git clone --branch test-exploratory-sims https://github.com/kayla-jackson/spatial-modeling.git"
      ],
      "metadata": {
        "id": "bUD6z7CoiLud",
        "colab": {
          "base_uri": "https://localhost:8080/"
        },
        "outputId": "66e742dd-6b8e-4ae6-916a-da6f0592083f"
      },
      "execution_count": 3,
      "outputs": [
        {
          "output_type": "stream",
          "name": "stdout",
          "text": [
            "Cloning into 'spatial-modeling'...\n",
            "remote: Enumerating objects: 110, done.\u001b[K\n",
            "remote: Counting objects: 100% (110/110), done.\u001b[K\n",
            "remote: Compressing objects: 100% (86/86), done.\u001b[K\n",
            "remote: Total 110 (delta 47), reused 61 (delta 18), pack-reused 0\u001b[K\n",
            "Receiving objects: 100% (110/110), 5.84 MiB | 20.76 MiB/s, done.\n",
            "Resolving deltas: 100% (47/47), done.\n"
          ]
        }
      ]
    },
    {
      "cell_type": "code",
      "source": [
        "# Setup directories\n",
        "repo_dir = \"./spatial-modeling/\"\n",
        "data_dir = os.path.join(repo_dir, \"data\")\n",
        "stan_dir = os.path.join(repo_dir, \"inst/stan\")"
      ],
      "metadata": {
        "id": "JlD7sUZKjDWE"
      },
      "execution_count": 4,
      "outputs": []
    },
    {
      "cell_type": "markdown",
      "source": [
        "# Load libraries"
      ],
      "metadata": {
        "id": "Yq5Xs_0PhS_H"
      }
    },
    {
      "cell_type": "code",
      "execution_count": 5,
      "metadata": {
        "id": "0g3nR6JFKMPc"
      },
      "outputs": [],
      "source": [
        "import numpy as np\n",
        "import pandas as pd\n",
        "import scipy.special\n",
        "import scipy.stats as st\n",
        "\n",
        "import cmdstanpy\n",
        "import arviz as az\n",
        "\n",
        "# plotting packages\n",
        "import iqplot\n",
        "import bokeh.io\n",
        "import bokeh.plotting\n",
        "bokeh.io.output_notebook()"
      ]
    },
    {
      "cell_type": "markdown",
      "source": [
        "# Parameter Estimation with Markov Chain Monte Carlo (MCMC)\n",
        "\n",
        "The code below demonstrates how to perform parameter estimation using MCMC. The model is defined in the file `inst/stan/car.stan`.\n",
        "\n",
        "First, we have to compile the model."
      ],
      "metadata": {
        "id": "59y1HPS6kMjp"
      }
    },
    {
      "cell_type": "code",
      "source": [
        "fn = os.path.join(stan_dir, \"car_prob.stan\")\n",
        "\n",
        "sm = cmdstanpy.CmdStanModel(stan_file=fn)"
      ],
      "metadata": {
        "id": "L7cwUPjbhqX7",
        "colab": {
          "base_uri": "https://localhost:8080/"
        },
        "outputId": "496e1f11-c77f-4b4c-fc0f-3ab95f977686"
      },
      "execution_count": 6,
      "outputs": [
        {
          "output_type": "stream",
          "name": "stderr",
          "text": [
            "17:26:00 - cmdstanpy - INFO - compiling stan file /content/spatial-modeling/inst/stan/car_prob.stan to exe file /content/spatial-modeling/inst/stan/car_prob\n",
            "INFO:cmdstanpy:compiling stan file /content/spatial-modeling/inst/stan/car_prob.stan to exe file /content/spatial-modeling/inst/stan/car_prob\n",
            "DEBUG:cmdstanpy:cmd: make STANCFLAGS+=--filename-in-msg=car_prob.stan /content/spatial-modeling/inst/stan/car_prob\n",
            "cwd: /root/.cmdstan/cmdstan-2.33.1\n",
            "DEBUG:cmdstanpy:Console output:\n",
            "\n",
            "--- Translating Stan model to C++ code ---\n",
            "bin/stanc --filename-in-msg=car_prob.stan --o=/content/spatial-modeling/inst/stan/car_prob.hpp /content/spatial-modeling/inst/stan/car_prob.stan\n",
            "\n",
            "--- Compiling, linking C++ code ---\n",
            "g++ -std=c++1y -pthread -D_REENTRANT -Wno-sign-compare -Wno-ignored-attributes      -I stan/lib/stan_math/lib/tbb_2020.3/include    -O3 -I src -I stan/src -I stan/lib/rapidjson_1.1.0/ -I lib/CLI11-1.9.1/ -I stan/lib/stan_math/ -I stan/lib/stan_math/lib/eigen_3.4.0 -I stan/lib/stan_math/lib/boost_1.78.0 -I stan/lib/stan_math/lib/sundials_6.1.1/include -I stan/lib/stan_math/lib/sundials_6.1.1/src/sundials    -DBOOST_DISABLE_ASSERTS          -c -Wno-ignored-attributes   -x c++ -o /content/spatial-modeling/inst/stan/car_prob.o /content/spatial-modeling/inst/stan/car_prob.hpp\n",
            "g++ -std=c++1y -pthread -D_REENTRANT -Wno-sign-compare -Wno-ignored-attributes      -I stan/lib/stan_math/lib/tbb_2020.3/include    -O3 -I src -I stan/src -I stan/lib/rapidjson_1.1.0/ -I lib/CLI11-1.9.1/ -I stan/lib/stan_math/ -I stan/lib/stan_math/lib/eigen_3.4.0 -I stan/lib/stan_math/lib/boost_1.78.0 -I stan/lib/stan_math/lib/sundials_6.1.1/include -I stan/lib/stan_math/lib/sundials_6.1.1/src/sundials    -DBOOST_DISABLE_ASSERTS               -Wl,-L,\"/root/.cmdstan/cmdstan-2.33.1/stan/lib/stan_math/lib/tbb\" -Wl,-rpath,\"/root/.cmdstan/cmdstan-2.33.1/stan/lib/stan_math/lib/tbb\"        /content/spatial-modeling/inst/stan/car_prob.o src/cmdstan/main.o       -Wl,-L,\"/root/.cmdstan/cmdstan-2.33.1/stan/lib/stan_math/lib/tbb\" -Wl,-rpath,\"/root/.cmdstan/cmdstan-2.33.1/stan/lib/stan_math/lib/tbb\"     stan/lib/stan_math/lib/sundials_6.1.1/lib/libsundials_nvecserial.a stan/lib/stan_math/lib/sundials_6.1.1/lib/libsundials_cvodes.a stan/lib/stan_math/lib/sundials_6.1.1/lib/libsundials_idas.a stan/lib/stan_math/lib/sundials_6.1.1/lib/libsundials_kinsol.a  stan/lib/stan_math/lib/tbb/libtbb.so.2 -o /content/spatial-modeling/inst/stan/car_prob\n",
            "rm -f /content/spatial-modeling/inst/stan/car_prob.o\n",
            "\n",
            "17:26:29 - cmdstanpy - INFO - compiled model executable: /content/spatial-modeling/inst/stan/car_prob\n",
            "INFO:cmdstanpy:compiled model executable: /content/spatial-modeling/inst/stan/car_prob\n"
          ]
        }
      ]
    },
    {
      "cell_type": "markdown",
      "source": [
        "Next, we specify the data and let Stan do the rest of the work. The paramers that you need to specify are as follows:\n",
        "\n",
        "\n",
        "* `count_n`: The number of points you will use to estimate parameters.\n",
        "* `counts`: The data you will use for fitting. Should be an array of size `count_n`.\n",
        "\n",
        "* `rates`: Represents the probability of capture at each grid point. Should be between `$0$` and `$1$`. Should be an array of size `count_n`.\n",
        "\n",
        "\n",
        "* `bs_mu`: For now, set to 0\n",
        "* `mu_mu`: For now, set to 0\n",
        "\n",
        "* `bs_var`: For now, set to 1\n",
        "* `mu_var`: For now, set to 5\n",
        "\n"
      ],
      "metadata": {
        "id": "hajWNZcdY2Sx"
      }
    },
    {
      "cell_type": "code",
      "source": [
        "# Importing the data - 100 genes, 64 valid positions\n",
        "COUNT_N = 6400\n",
        "\n",
        "df = pd.read_csv(os.path.join(data_dir, 'counts.csv'))\n",
        "\n",
        "df = df[~df['border']] # Filter out locations where border = True\n",
        "\n",
        "# Create counts array\n",
        "# ordered version: gene_labels = [f'gene_{i}' for i in range(1, 101)]\n",
        "# gene_counts = df.iloc[:, -100:][gene_labels].values.flatten()\n",
        "\n",
        "gene_counts = df.iloc[:, -100:].values.flatten()\n",
        "true_p = np.ravel([[p]*100 for p in df['theta'].values])\n",
        "\n",
        "'''\n",
        "W = np.array([\n",
        "    0, 1, 1, 0,\n",
        "    1, 0, 0, 1,\n",
        "    1, 0, 0, 1,\n",
        "    0, 1, 1, 0\n",
        "])\n",
        "'''\n",
        "\n",
        "data = dict(\n",
        "    count_n=COUNT_N,\n",
        "    counts=gene_counts,\n",
        "    rates=true_p,\n",
        "\n",
        "    bs_mu=0,\n",
        "    bs_var=1,\n",
        "    mu_mu=0,\n",
        "    mu_var=5,\n",
        ")"
      ],
      "metadata": {
        "id": "nySdUn3grLEz"
      },
      "execution_count": 7,
      "outputs": []
    },
    {
      "cell_type": "code",
      "source": [
        "# Perform sampling with Stan\n",
        "samples = sm.sample(\n",
        "    data=data,\n",
        "    chains=4,\n",
        "    iter_sampling=1000,\n",
        ")\n",
        "\n",
        "# Convert to ArviZ InferenceData instance\n",
        "samples = az.from_cmdstanpy(posterior=samples)"
      ],
      "metadata": {
        "id": "cgmGJ8XSc9mo",
        "colab": {
          "base_uri": "https://localhost:8080/",
          "height": 1000,
          "referenced_widgets": [
            "a4da908a8efb4d85846439fb7b5e9d52",
            "4ef61e8b674e47ba9ae7cf3ac33c8502",
            "cba4cab1007c4f0ea6a743f343c172c2",
            "afbdf53d61a5436cac3cc7cd82defcc8",
            "09624465e02d4802bc9856518e87858c",
            "4c63a09257f6417fb166ee8804db9bec",
            "c13a630b73584498bc5a72c1ab614a94",
            "e444a9a8ec21490d9ed5d45b52054c5d",
            "91b6dbdd678b42eea2767214cb958b72",
            "fbc8489bc4b74a7d9603b7e7fc8e9f35",
            "e8514466fe7a40c6a711c627f2b6f766",
            "da0ca48396ba4d80aada6c07e69ebbd5",
            "24ba19cc0a89453e8f51da1eafb27a05",
            "7ce64d15a64a4e2fad3e97787ce96a93",
            "485c8f1a59204b33bab7e721f9308947",
            "e11c7cd550784707be8984a68cf39495",
            "5626155ef08f47f0a42f1d73329db9e3",
            "78bb386ec02f40138a11a10580ef401b",
            "a588947e1c80405094b94b90e339e830",
            "0df904afbc9d4c0aaa08af9ce17f48b7",
            "dee709a640b946299f76da792878ce6e",
            "04ea697ea2b9439bb4e60c287331e7c1",
            "2cf3a9b779e443f28c806f972557bb7d",
            "f268a68f72aa45f0b8f6c5a1ff4b88f5",
            "7c85ed683f294da48edbeecf75c0955d",
            "c790249ef28d4bcd968aeeaa9fea5bc9",
            "926c993c63a94243839317095f6af7d8",
            "14499804837043199ec96d75c66720ae",
            "80eb7cdf4d464b0ea2aa85230f1ac3a8",
            "6e50c9f6425242aca8386dac3ef354dc",
            "88a1650699804fc688a238bc2e484d8f",
            "f3bdc8a8d2c54624adb7dad26af6d1ca",
            "cb8c154e90d8412295b214e18f9cb2d2",
            "3286aa21a7d8492095426ed6c119a364",
            "0c12be9f77a94432b7773247ba507ea4",
            "1fc62958da2b4d7bbf9d457b8aebd03d",
            "29c589f4439a4eeeb9e228493330be28",
            "c74f8538c6b74d5291b65e8a0e0827a6",
            "ff94e72106874354b960f02f38aedcf9",
            "c4740bad185d4d19a474b7189b015148",
            "cc84bb32bb7841409636af7e838a37c8",
            "6a8d0f8802154fca8c773dd5a2f9b1df",
            "6ab0773e1d2f4156a397e4ea58ee4aaf",
            "c91cd7666c3648a5aba8dbf2a00913bd"
          ]
        },
        "outputId": "f923ac7d-5229-40b1-9465-880e147e4e53"
      },
      "execution_count": 9,
      "outputs": [
        {
          "output_type": "stream",
          "name": "stderr",
          "text": [
            "DEBUG:cmdstanpy:cmd: /content/spatial-modeling/inst/stan/car_prob info\n",
            "cwd: None\n",
            "DEBUG:cmdstanpy:input tempfile: /tmp/tmpub62ez7e/jg7mo75q.json\n",
            "17:27:29 - cmdstanpy - INFO - CmdStan start processing\n",
            "INFO:cmdstanpy:CmdStan start processing\n"
          ]
        },
        {
          "output_type": "display_data",
          "data": {
            "text/plain": [
              "chain 1 |          | 00:00 Status"
            ],
            "application/vnd.jupyter.widget-view+json": {
              "version_major": 2,
              "version_minor": 0,
              "model_id": "a4da908a8efb4d85846439fb7b5e9d52"
            }
          },
          "metadata": {}
        },
        {
          "output_type": "display_data",
          "data": {
            "text/plain": [
              "chain 2 |          | 00:00 Status"
            ],
            "application/vnd.jupyter.widget-view+json": {
              "version_major": 2,
              "version_minor": 0,
              "model_id": "da0ca48396ba4d80aada6c07e69ebbd5"
            }
          },
          "metadata": {}
        },
        {
          "output_type": "display_data",
          "data": {
            "text/plain": [
              "chain 3 |          | 00:00 Status"
            ],
            "application/vnd.jupyter.widget-view+json": {
              "version_major": 2,
              "version_minor": 0,
              "model_id": "2cf3a9b779e443f28c806f972557bb7d"
            }
          },
          "metadata": {}
        },
        {
          "output_type": "display_data",
          "data": {
            "text/plain": [
              "chain 4 |          | 00:00 Status"
            ],
            "application/vnd.jupyter.widget-view+json": {
              "version_major": 2,
              "version_minor": 0,
              "model_id": "3286aa21a7d8492095426ed6c119a364"
            }
          },
          "metadata": {}
        },
        {
          "output_type": "stream",
          "name": "stderr",
          "text": [
            "DEBUG:cmdstanpy:idx 0\n",
            "DEBUG:cmdstanpy:running CmdStan, num_threads: 1\n",
            "DEBUG:cmdstanpy:CmdStan args: ['/content/spatial-modeling/inst/stan/car_prob', 'id=1', 'random', 'seed=15449', 'data', 'file=/tmp/tmpub62ez7e/jg7mo75q.json', 'output', 'file=/tmp/tmpub62ez7e/car_probmm0lmni8/car_prob-20231017172730_1.csv', 'method=sample', 'num_samples=1000', 'algorithm=hmc', 'adapt', 'engaged=1']\n",
            "DEBUG:cmdstanpy:idx 1\n",
            "DEBUG:cmdstanpy:running CmdStan, num_threads: 1\n",
            "DEBUG:cmdstanpy:CmdStan args: ['/content/spatial-modeling/inst/stan/car_prob', 'id=2', 'random', 'seed=15449', 'data', 'file=/tmp/tmpub62ez7e/jg7mo75q.json', 'output', 'file=/tmp/tmpub62ez7e/car_probmm0lmni8/car_prob-20231017172730_2.csv', 'method=sample', 'num_samples=1000', 'algorithm=hmc', 'adapt', 'engaged=1']\n",
            "DEBUG:cmdstanpy:idx 2\n",
            "DEBUG:cmdstanpy:running CmdStan, num_threads: 1\n",
            "DEBUG:cmdstanpy:CmdStan args: ['/content/spatial-modeling/inst/stan/car_prob', 'id=3', 'random', 'seed=15449', 'data', 'file=/tmp/tmpub62ez7e/jg7mo75q.json', 'output', 'file=/tmp/tmpub62ez7e/car_probmm0lmni8/car_prob-20231017172730_3.csv', 'method=sample', 'num_samples=1000', 'algorithm=hmc', 'adapt', 'engaged=1']\n",
            "DEBUG:cmdstanpy:idx 3\n",
            "DEBUG:cmdstanpy:running CmdStan, num_threads: 1\n",
            "DEBUG:cmdstanpy:CmdStan args: ['/content/spatial-modeling/inst/stan/car_prob', 'id=4', 'random', 'seed=15449', 'data', 'file=/tmp/tmpub62ez7e/jg7mo75q.json', 'output', 'file=/tmp/tmpub62ez7e/car_probmm0lmni8/car_prob-20231017172730_4.csv', 'method=sample', 'num_samples=1000', 'algorithm=hmc', 'adapt', 'engaged=1']\n"
          ]
        },
        {
          "output_type": "stream",
          "name": "stdout",
          "text": [
            "                                                                                                                                                                                                                                                                                                                                                                                                                "
          ]
        },
        {
          "output_type": "stream",
          "name": "stderr",
          "text": [
            "17:28:21 - cmdstanpy - INFO - CmdStan done processing.\n",
            "INFO:cmdstanpy:CmdStan done processing.\n",
            "DEBUG:cmdstanpy:runset\n",
            "RunSet: chains=4, chain_ids=[1, 2, 3, 4], num_processes=4\n",
            " cmd (chain 1):\n",
            "\t['/content/spatial-modeling/inst/stan/car_prob', 'id=1', 'random', 'seed=15449', 'data', 'file=/tmp/tmpub62ez7e/jg7mo75q.json', 'output', 'file=/tmp/tmpub62ez7e/car_probmm0lmni8/car_prob-20231017172730_1.csv', 'method=sample', 'num_samples=1000', 'algorithm=hmc', 'adapt', 'engaged=1']\n",
            " retcodes=[0, 0, 0, 0]\n",
            " per-chain output files (showing chain 1 only):\n",
            " csv_file:\n",
            "\t/tmp/tmpub62ez7e/car_probmm0lmni8/car_prob-20231017172730_1.csv\n",
            " console_msgs (if any):\n",
            "\t/tmp/tmpub62ez7e/car_probmm0lmni8/car_prob-20231017172730_0-stdout.txt\n",
            "DEBUG:cmdstanpy:Chain 1 console:\n",
            "method = sample (Default)\n",
            "  sample\n",
            "    num_samples = 1000 (Default)\n",
            "    num_warmup = 1000 (Default)\n",
            "    save_warmup = 0 (Default)\n",
            "    thin = 1 (Default)\n",
            "    adapt\n",
            "      engaged = 1 (Default)\n",
            "      gamma = 0.050000000000000003 (Default)\n",
            "      delta = 0.80000000000000004 (Default)\n",
            "      kappa = 0.75 (Default)\n",
            "      t0 = 10 (Default)\n",
            "      init_buffer = 75 (Default)\n",
            "      term_buffer = 50 (Default)\n",
            "      window = 25 (Default)\n",
            "    algorithm = hmc (Default)\n",
            "      hmc\n",
            "        engine = nuts (Default)\n",
            "          nuts\n",
            "            max_depth = 10 (Default)\n",
            "        metric = diag_e (Default)\n",
            "        metric_file =  (Default)\n",
            "        stepsize = 1 (Default)\n",
            "        stepsize_jitter = 0 (Default)\n",
            "    num_chains = 1 (Default)\n",
            "id = 1 (Default)\n",
            "data\n",
            "  file = /tmp/tmpub62ez7e/jg7mo75q.json\n",
            "init = 2 (Default)\n",
            "random\n",
            "  seed = 15449\n",
            "output\n",
            "  file = /tmp/tmpub62ez7e/car_probmm0lmni8/car_prob-20231017172730_1.csv\n",
            "  diagnostic_file =  (Default)\n",
            "  refresh = 100 (Default)\n",
            "  sig_figs = -1 (Default)\n",
            "  profile_file = profile.csv (Default)\n",
            "num_threads = 1 (Default)\n",
            "\n",
            "\n",
            "Gradient evaluation took 0.003544 seconds\n",
            "1000 transitions using 10 leapfrog steps per transition would take 35.44 seconds.\n",
            "Adjust your expectations accordingly!\n",
            "\n",
            "\n",
            "Informational Message: The current Metropolis proposal is about to be rejected because of the following issue:\n",
            "Exception: neg_binomial_2_lpmf: Location parameter is inf, but must be positive finite! (in 'car_prob.stan', line 26, column 2 to column 48)\n",
            "If this warning occurs sporadically, such as for highly constrained variable types like covariance matrices, then the sampler is fine,\n",
            "but if this warning occurs often then your model may be either severely ill-conditioned or misspecified.\n",
            "\n",
            "Informational Message: The current Metropolis proposal is about to be rejected because of the following issue:\n",
            "Exception: neg_binomial_2_lpmf: Location parameter is inf, but must be positive finite! (in 'car_prob.stan', line 26, column 2 to column 48)\n",
            "If this warning occurs sporadically, such as for highly constrained variable types like covariance matrices, then the sampler is fine,\n",
            "but if this warning occurs often then your model may be either severely ill-conditioned or misspecified.\n",
            "\n",
            "Iteration:    1 / 2000 [  0%]  (Warmup)\n",
            "Informational Message: The current Metropolis proposal is about to be rejected because of the following issue:\n",
            "Exception: neg_binomial_2_lpmf: Location parameter is inf, but must be positive finite! (in 'car_prob.stan', line 26, column 2 to column 48)\n",
            "If this warning occurs sporadically, such as for highly constrained variable types like covariance matrices, then the sampler is fine,\n",
            "but if this warning occurs often then your model may be either severely ill-conditioned or misspecified.\n",
            "\n",
            "Informational Message: The current Metropolis proposal is about to be rejected because of the following issue:\n",
            "Exception: neg_binomial_2_lpmf: Location parameter is inf, but must be positive finite! (in 'car_prob.stan', line 26, column 2 to column 48)\n",
            "If this warning occurs sporadically, such as for highly constrained variable types like covariance matrices, then the sampler is fine,\n",
            "but if this warning occurs often then your model may be either severely ill-conditioned or misspecified.\n",
            "\n",
            "Iteration:  100 / 2000 [  5%]  (Warmup)\n",
            "Iteration:  200 / 2000 [ 10%]  (Warmup)\n",
            "Iteration:  300 / 2000 [ 15%]  (Warmup)\n",
            "Iteration:  400 / 2000 [ 20%]  (Warmup)\n",
            "Iteration:  500 / 2000 [ 25%]  (Warmup)\n",
            "Iteration:  600 / 2000 [ 30%]  (Warmup)\n",
            "Iteration:  700 / 2000 [ 35%]  (Warmup)\n",
            "Iteration:  800 / 2000 [ 40%]  (Warmup)\n",
            "Iteration:  900 / 2000 [ 45%]  (Warmup)\n",
            "Iteration: 1000 / 2000 [ 50%]  (Warmup)\n",
            "Iteration: 1001 / 2000 [ 50%]  (Sampling)\n",
            "Iteration: 1100 / 2000 [ 55%]  (Sampling)\n",
            "Iteration: 1200 / 2000 [ 60%]  (Sampling)\n",
            "Iteration: 1300 / 2000 [ 65%]  (Sampling)\n",
            "Iteration: 1400 / 2000 [ 70%]  (Sampling)\n",
            "Iteration: 1500 / 2000 [ 75%]  (Sampling)\n",
            "Iteration: 1600 / 2000 [ 80%]  (Sampling)\n",
            "Iteration: 1700 / 2000 [ 85%]  (Sampling)\n",
            "Iteration: 1800 / 2000 [ 90%]  (Sampling)\n",
            "Iteration: 1900 / 2000 [ 95%]  (Sampling)\n",
            "Iteration: 2000 / 2000 [100%]  (Sampling)\n",
            "\n",
            " Elapsed Time: 11.968 seconds (Warm-up)\n",
            "               13.941 seconds (Sampling)\n",
            "               25.909 seconds (Total)\n",
            "\n",
            "\n",
            "17:28:21 - cmdstanpy - WARNING - Non-fatal error during sampling:\n",
            "Exception: neg_binomial_2_lpmf: Location parameter is inf, but must be positive finite! (in 'car_prob.stan', line 26, column 2 to column 48)\n",
            "\tException: neg_binomial_2_lpmf: Location parameter is inf, but must be positive finite! (in 'car_prob.stan', line 26, column 2 to column 48)\n",
            "\tException: neg_binomial_2_lpmf: Location parameter is inf, but must be positive finite! (in 'car_prob.stan', line 26, column 2 to column 48)\n",
            "\tException: neg_binomial_2_lpmf: Location parameter is inf, but must be positive finite! (in 'car_prob.stan', line 26, column 2 to column 48)\n",
            "Exception: neg_binomial_2_lpmf: Location parameter is inf, but must be positive finite! (in 'car_prob.stan', line 26, column 2 to column 48)\n",
            "\tException: neg_binomial_2_lpmf: Location parameter is inf, but must be positive finite! (in 'car_prob.stan', line 26, column 2 to column 48)\n",
            "\tException: neg_binomial_2_lpmf: Location parameter is inf, but must be positive finite! (in 'car_prob.stan', line 26, column 2 to column 48)\n",
            "\tException: neg_binomial_2_lpmf: Precision parameter[1] is 0, but must be positive finite! (in 'car_prob.stan', line 26, column 2 to column 48)\n",
            "\tException: neg_binomial_2_lpmf: Location parameter is inf, but must be positive finite! (in 'car_prob.stan', line 26, column 2 to column 48)\n",
            "\tException: neg_binomial_2_lpmf: Location parameter is inf, but must be positive finite! (in 'car_prob.stan', line 26, column 2 to column 48)\n",
            "Exception: neg_binomial_2_lpmf: Location parameter is inf, but must be positive finite! (in 'car_prob.stan', line 26, column 2 to column 48)\n",
            "\tException: neg_binomial_2_lpmf: Location parameter is inf, but must be positive finite! (in 'car_prob.stan', line 26, column 2 to column 48)\n",
            "\tException: neg_binomial_2_lpmf: Precision parameter[1] is inf, but must be positive finite! (in 'car_prob.stan', line 26, column 2 to column 48)\n",
            "\tException: neg_binomial_2_lpmf: Location parameter is inf, but must be positive finite! (in 'car_prob.stan', line 26, column 2 to column 48)\n",
            "\tException: neg_binomial_2_lpmf: Location parameter is inf, but must be positive finite! (in 'car_prob.stan', line 26, column 2 to column 48)\n",
            "Exception: neg_binomial_2_lpmf: Location parameter is inf, but must be positive finite! (in 'car_prob.stan', line 26, column 2 to column 48)\n",
            "\tException: neg_binomial_2_lpmf: Location parameter is inf, but must be positive finite! (in 'car_prob.stan', line 26, column 2 to column 48)\n",
            "\tException: neg_binomial_2_lpmf: Location parameter is 0, but must be positive finite! (in 'car_prob.stan', line 26, column 2 to column 48)\n",
            "\tException: neg_binomial_2_lpmf: Location parameter is 0, but must be positive finite! (in 'car_prob.stan', line 26, column 2 to column 48)\n",
            "Consider re-running with show_console=True if the above output is unclear!\n",
            "WARNING:cmdstanpy:Non-fatal error during sampling:\n",
            "Exception: neg_binomial_2_lpmf: Location parameter is inf, but must be positive finite! (in 'car_prob.stan', line 26, column 2 to column 48)\n",
            "\tException: neg_binomial_2_lpmf: Location parameter is inf, but must be positive finite! (in 'car_prob.stan', line 26, column 2 to column 48)\n",
            "\tException: neg_binomial_2_lpmf: Location parameter is inf, but must be positive finite! (in 'car_prob.stan', line 26, column 2 to column 48)\n",
            "\tException: neg_binomial_2_lpmf: Location parameter is inf, but must be positive finite! (in 'car_prob.stan', line 26, column 2 to column 48)\n",
            "Exception: neg_binomial_2_lpmf: Location parameter is inf, but must be positive finite! (in 'car_prob.stan', line 26, column 2 to column 48)\n",
            "\tException: neg_binomial_2_lpmf: Location parameter is inf, but must be positive finite! (in 'car_prob.stan', line 26, column 2 to column 48)\n",
            "\tException: neg_binomial_2_lpmf: Location parameter is inf, but must be positive finite! (in 'car_prob.stan', line 26, column 2 to column 48)\n",
            "\tException: neg_binomial_2_lpmf: Precision parameter[1] is 0, but must be positive finite! (in 'car_prob.stan', line 26, column 2 to column 48)\n",
            "\tException: neg_binomial_2_lpmf: Location parameter is inf, but must be positive finite! (in 'car_prob.stan', line 26, column 2 to column 48)\n",
            "\tException: neg_binomial_2_lpmf: Location parameter is inf, but must be positive finite! (in 'car_prob.stan', line 26, column 2 to column 48)\n",
            "Exception: neg_binomial_2_lpmf: Location parameter is inf, but must be positive finite! (in 'car_prob.stan', line 26, column 2 to column 48)\n",
            "\tException: neg_binomial_2_lpmf: Location parameter is inf, but must be positive finite! (in 'car_prob.stan', line 26, column 2 to column 48)\n",
            "\tException: neg_binomial_2_lpmf: Precision parameter[1] is inf, but must be positive finite! (in 'car_prob.stan', line 26, column 2 to column 48)\n",
            "\tException: neg_binomial_2_lpmf: Location parameter is inf, but must be positive finite! (in 'car_prob.stan', line 26, column 2 to column 48)\n",
            "\tException: neg_binomial_2_lpmf: Location parameter is inf, but must be positive finite! (in 'car_prob.stan', line 26, column 2 to column 48)\n",
            "Exception: neg_binomial_2_lpmf: Location parameter is inf, but must be positive finite! (in 'car_prob.stan', line 26, column 2 to column 48)\n",
            "\tException: neg_binomial_2_lpmf: Location parameter is inf, but must be positive finite! (in 'car_prob.stan', line 26, column 2 to column 48)\n",
            "\tException: neg_binomial_2_lpmf: Location parameter is 0, but must be positive finite! (in 'car_prob.stan', line 26, column 2 to column 48)\n",
            "\tException: neg_binomial_2_lpmf: Location parameter is 0, but must be positive finite! (in 'car_prob.stan', line 26, column 2 to column 48)\n",
            "Consider re-running with show_console=True if the above output is unclear!\n"
          ]
        },
        {
          "output_type": "stream",
          "name": "stdout",
          "text": [
            "\n"
          ]
        },
        {
          "output_type": "error",
          "ename": "AttributeError",
          "evalue": "ignored",
          "traceback": [
            "\u001b[0;31m---------------------------------------------------------------------------\u001b[0m",
            "\u001b[0;31mAttributeError\u001b[0m                            Traceback (most recent call last)",
            "\u001b[0;32m<ipython-input-9-66be14c76142>\u001b[0m in \u001b[0;36m<cell line: 9>\u001b[0;34m()\u001b[0m\n\u001b[1;32m      7\u001b[0m \u001b[0;34m\u001b[0m\u001b[0m\n\u001b[1;32m      8\u001b[0m \u001b[0;31m# Convert to ArviZ InferenceData instance\u001b[0m\u001b[0;34m\u001b[0m\u001b[0;34m\u001b[0m\u001b[0m\n\u001b[0;32m----> 9\u001b[0;31m \u001b[0msamples\u001b[0m \u001b[0;34m=\u001b[0m \u001b[0maz\u001b[0m\u001b[0;34m.\u001b[0m\u001b[0mfrom_cmdstanpy\u001b[0m\u001b[0;34m(\u001b[0m\u001b[0mposterior\u001b[0m\u001b[0;34m=\u001b[0m\u001b[0msamples\u001b[0m\u001b[0;34m)\u001b[0m\u001b[0;34m\u001b[0m\u001b[0;34m\u001b[0m\u001b[0m\n\u001b[0m",
            "\u001b[0;32m/usr/local/lib/python3.10/dist-packages/arviz/data/io_cmdstanpy.py\u001b[0m in \u001b[0;36mfrom_cmdstanpy\u001b[0;34m(posterior, posterior_predictive, predictions, prior, prior_predictive, observed_data, constant_data, predictions_constant_data, log_likelihood, index_origin, coords, dims, save_warmup, dtypes)\u001b[0m\n\u001b[1;32m    827\u001b[0m     \u001b[0mInferenceData\u001b[0m \u001b[0mobject\u001b[0m\u001b[0;34m\u001b[0m\u001b[0;34m\u001b[0m\u001b[0m\n\u001b[1;32m    828\u001b[0m     \"\"\"\n\u001b[0;32m--> 829\u001b[0;31m     return CmdStanPyConverter(\n\u001b[0m\u001b[1;32m    830\u001b[0m         \u001b[0mposterior\u001b[0m\u001b[0;34m=\u001b[0m\u001b[0mposterior\u001b[0m\u001b[0;34m,\u001b[0m\u001b[0;34m\u001b[0m\u001b[0;34m\u001b[0m\u001b[0m\n\u001b[1;32m    831\u001b[0m         \u001b[0mposterior_predictive\u001b[0m\u001b[0;34m=\u001b[0m\u001b[0mposterior_predictive\u001b[0m\u001b[0;34m,\u001b[0m\u001b[0;34m\u001b[0m\u001b[0;34m\u001b[0m\u001b[0m\n",
            "\u001b[0;32m/usr/local/lib/python3.10/dist-packages/arviz/data/io_cmdstanpy.py\u001b[0m in \u001b[0;36m__init__\u001b[0;34m(self, posterior, posterior_predictive, predictions, prior, prior_predictive, observed_data, constant_data, predictions_constant_data, log_likelihood, index_origin, coords, dims, save_warmup, dtypes)\u001b[0m\n\u001b[1;32m     74\u001b[0m \u001b[0;34m\u001b[0m\u001b[0m\n\u001b[1;32m     75\u001b[0m         \u001b[0;32mif\u001b[0m \u001b[0mhasattr\u001b[0m\u001b[0;34m(\u001b[0m\u001b[0mself\u001b[0m\u001b[0;34m.\u001b[0m\u001b[0mposterior\u001b[0m\u001b[0;34m,\u001b[0m \u001b[0;34m\"metadata\"\u001b[0m\u001b[0;34m)\u001b[0m\u001b[0;34m:\u001b[0m\u001b[0;34m\u001b[0m\u001b[0;34m\u001b[0m\u001b[0m\n\u001b[0;32m---> 76\u001b[0;31m             \u001b[0;32mif\u001b[0m \u001b[0mself\u001b[0m\u001b[0;34m.\u001b[0m\u001b[0mlog_likelihood\u001b[0m \u001b[0;32mis\u001b[0m \u001b[0;32mTrue\u001b[0m \u001b[0;32mand\u001b[0m \u001b[0;34m\"log_lik\"\u001b[0m \u001b[0;32min\u001b[0m \u001b[0mself\u001b[0m\u001b[0;34m.\u001b[0m\u001b[0mposterior\u001b[0m\u001b[0;34m.\u001b[0m\u001b[0mmetadata\u001b[0m\u001b[0;34m.\u001b[0m\u001b[0mstan_vars_cols\u001b[0m\u001b[0;34m:\u001b[0m\u001b[0;34m\u001b[0m\u001b[0;34m\u001b[0m\u001b[0m\n\u001b[0m\u001b[1;32m     77\u001b[0m                 \u001b[0mself\u001b[0m\u001b[0;34m.\u001b[0m\u001b[0mlog_likelihood\u001b[0m \u001b[0;34m=\u001b[0m \u001b[0;34m[\u001b[0m\u001b[0;34m\"log_lik\"\u001b[0m\u001b[0;34m]\u001b[0m\u001b[0;34m\u001b[0m\u001b[0;34m\u001b[0m\u001b[0m\n\u001b[1;32m     78\u001b[0m         \u001b[0;32melif\u001b[0m \u001b[0mhasattr\u001b[0m\u001b[0;34m(\u001b[0m\u001b[0mself\u001b[0m\u001b[0;34m.\u001b[0m\u001b[0mposterior\u001b[0m\u001b[0;34m,\u001b[0m \u001b[0;34m\"stan_vars_cols\"\u001b[0m\u001b[0;34m)\u001b[0m\u001b[0;34m:\u001b[0m\u001b[0;34m\u001b[0m\u001b[0;34m\u001b[0m\u001b[0m\n",
            "\u001b[0;31mAttributeError\u001b[0m: 'InferenceMetadata' object has no attribute 'stan_vars_cols'"
          ]
        }
      ]
    },
    {
      "cell_type": "markdown",
      "source": [
        "Take a quick look at the posterior distribution"
      ],
      "metadata": {
        "id": "FZqJFiU-grSG"
      }
    },
    {
      "cell_type": "code",
      "source": [
        "samples.posterior"
      ],
      "metadata": {
        "id": "grNnv2Jcgjda",
        "colab": {
          "base_uri": "https://localhost:8080/",
          "height": 564
        },
        "outputId": "aa913a43-fbec-4525-b35e-eb636310200d"
      },
      "execution_count": null,
      "outputs": [
        {
          "output_type": "error",
          "ename": "AttributeError",
          "evalue": "ignored",
          "traceback": [
            "\u001b[0;31m---------------------------------------------------------------------------\u001b[0m",
            "\u001b[0;31mKeyError\u001b[0m                                  Traceback (most recent call last)",
            "\u001b[0;32m/usr/local/lib/python3.10/dist-packages/cmdstanpy/stanfit/mcmc.py\u001b[0m in \u001b[0;36mstan_variable\u001b[0;34m(self, var, inc_warmup)\u001b[0m\n\u001b[1;32m    757\u001b[0m             \u001b[0mdraws\u001b[0m \u001b[0;34m=\u001b[0m \u001b[0mself\u001b[0m\u001b[0;34m.\u001b[0m\u001b[0mdraws\u001b[0m\u001b[0;34m(\u001b[0m\u001b[0minc_warmup\u001b[0m\u001b[0;34m=\u001b[0m\u001b[0minc_warmup\u001b[0m\u001b[0;34m,\u001b[0m \u001b[0mconcat_chains\u001b[0m\u001b[0;34m=\u001b[0m\u001b[0;32mTrue\u001b[0m\u001b[0;34m)\u001b[0m\u001b[0;34m\u001b[0m\u001b[0;34m\u001b[0m\u001b[0m\n\u001b[0;32m--> 758\u001b[0;31m             out: np.ndarray = self._metadata.stan_vars[var].extract_reshape(\n\u001b[0m\u001b[1;32m    759\u001b[0m                 \u001b[0mdraws\u001b[0m\u001b[0;34m\u001b[0m\u001b[0;34m\u001b[0m\u001b[0m\n",
            "\u001b[0;31mKeyError\u001b[0m: 'posterior'",
            "\nDuring handling of the above exception, another exception occurred:\n",
            "\u001b[0;31mValueError\u001b[0m                                Traceback (most recent call last)",
            "\u001b[0;32m/usr/local/lib/python3.10/dist-packages/cmdstanpy/stanfit/mcmc.py\u001b[0m in \u001b[0;36m__getattr__\u001b[0;34m(self, attr)\u001b[0m\n\u001b[1;32m    125\u001b[0m         \u001b[0;32mtry\u001b[0m\u001b[0;34m:\u001b[0m\u001b[0;34m\u001b[0m\u001b[0;34m\u001b[0m\u001b[0m\n\u001b[0;32m--> 126\u001b[0;31m             \u001b[0;32mreturn\u001b[0m \u001b[0mself\u001b[0m\u001b[0;34m.\u001b[0m\u001b[0mstan_variable\u001b[0m\u001b[0;34m(\u001b[0m\u001b[0mattr\u001b[0m\u001b[0;34m)\u001b[0m\u001b[0;34m\u001b[0m\u001b[0;34m\u001b[0m\u001b[0m\n\u001b[0m\u001b[1;32m    127\u001b[0m         \u001b[0;32mexcept\u001b[0m \u001b[0mValueError\u001b[0m \u001b[0;32mas\u001b[0m \u001b[0me\u001b[0m\u001b[0;34m:\u001b[0m\u001b[0;34m\u001b[0m\u001b[0;34m\u001b[0m\u001b[0m\n",
            "\u001b[0;32m/usr/local/lib/python3.10/dist-packages/cmdstanpy/stanfit/mcmc.py\u001b[0m in \u001b[0;36mstan_variable\u001b[0;34m(self, var, inc_warmup)\u001b[0m\n\u001b[1;32m    763\u001b[0m             \u001b[0;31m# pylint: disable=raise-missing-from\u001b[0m\u001b[0;34m\u001b[0m\u001b[0;34m\u001b[0m\u001b[0m\n\u001b[0;32m--> 764\u001b[0;31m             raise ValueError(\n\u001b[0m\u001b[1;32m    765\u001b[0m                 \u001b[0;34mf'Unknown variable name: {var}\\n'\u001b[0m\u001b[0;34m\u001b[0m\u001b[0;34m\u001b[0m\u001b[0m\n",
            "\u001b[0;31mValueError\u001b[0m: Unknown variable name: posterior\nAvailable variables are mu, log_bs, burst_size",
            "\nDuring handling of the above exception, another exception occurred:\n",
            "\u001b[0;31mAttributeError\u001b[0m                            Traceback (most recent call last)",
            "\u001b[0;32m<ipython-input-26-e2c7711fa3fb>\u001b[0m in \u001b[0;36m<cell line: 1>\u001b[0;34m()\u001b[0m\n\u001b[0;32m----> 1\u001b[0;31m \u001b[0msamples\u001b[0m\u001b[0;34m.\u001b[0m\u001b[0mposterior\u001b[0m\u001b[0;34m\u001b[0m\u001b[0;34m\u001b[0m\u001b[0m\n\u001b[0m",
            "\u001b[0;32m/usr/local/lib/python3.10/dist-packages/cmdstanpy/stanfit/mcmc.py\u001b[0m in \u001b[0;36m__getattr__\u001b[0;34m(self, attr)\u001b[0m\n\u001b[1;32m    127\u001b[0m         \u001b[0;32mexcept\u001b[0m \u001b[0mValueError\u001b[0m \u001b[0;32mas\u001b[0m \u001b[0me\u001b[0m\u001b[0;34m:\u001b[0m\u001b[0;34m\u001b[0m\u001b[0;34m\u001b[0m\u001b[0m\n\u001b[1;32m    128\u001b[0m             \u001b[0;31m# pylint: disable=raise-missing-from\u001b[0m\u001b[0;34m\u001b[0m\u001b[0;34m\u001b[0m\u001b[0m\n\u001b[0;32m--> 129\u001b[0;31m             \u001b[0;32mraise\u001b[0m \u001b[0mAttributeError\u001b[0m\u001b[0;34m(\u001b[0m\u001b[0;34m*\u001b[0m\u001b[0me\u001b[0m\u001b[0;34m.\u001b[0m\u001b[0margs\u001b[0m\u001b[0;34m)\u001b[0m\u001b[0;34m\u001b[0m\u001b[0;34m\u001b[0m\u001b[0m\n\u001b[0m\u001b[1;32m    130\u001b[0m \u001b[0;34m\u001b[0m\u001b[0m\n\u001b[1;32m    131\u001b[0m     \u001b[0;32mdef\u001b[0m \u001b[0m__getstate__\u001b[0m\u001b[0;34m(\u001b[0m\u001b[0mself\u001b[0m\u001b[0;34m)\u001b[0m \u001b[0;34m->\u001b[0m \u001b[0mdict\u001b[0m\u001b[0;34m:\u001b[0m\u001b[0;34m\u001b[0m\u001b[0;34m\u001b[0m\u001b[0m\n",
            "\u001b[0;31mAttributeError\u001b[0m: Unknown variable name: posterior\nAvailable variables are mu, log_bs, burst_size"
          ]
        }
      ]
    },
    {
      "cell_type": "code",
      "source": [
        "# Convert posterior samples to dataframe for plotting\n",
        "df_mcmc = samples.posterior.to_dataframe()\n",
        "\n",
        "# Take a look\n",
        "df_mcmc.head()"
      ],
      "metadata": {
        "id": "r4cI1dbggk6-"
      },
      "execution_count": null,
      "outputs": []
    },
    {
      "cell_type": "code",
      "source": [
        "# Some plots of the parameters\n",
        "plots = [\n",
        "    iqplot.histogram(df_mcmc, q=param, rug=False)\n",
        "    for param in [\"mu\", \"burst_size\"]\n",
        "]\n",
        "\n",
        "bokeh.io.show(bokeh.layouts.gridplot(plots, ncols=2))"
      ],
      "metadata": {
        "id": "4My3mBTFhSto",
        "colab": {
          "base_uri": "https://localhost:8080/",
          "height": 367
        },
        "outputId": "4e8340bb-981e-429a-cf4b-4e8c1d624e05"
      },
      "execution_count": null,
      "outputs": [
        {
          "output_type": "error",
          "ename": "NameError",
          "evalue": "ignored",
          "traceback": [
            "\u001b[0;31m---------------------------------------------------------------------------\u001b[0m",
            "\u001b[0;31mNameError\u001b[0m                                 Traceback (most recent call last)",
            "\u001b[0;32m<ipython-input-25-868b727623cf>\u001b[0m in \u001b[0;36m<cell line: 2>\u001b[0;34m()\u001b[0m\n\u001b[1;32m      1\u001b[0m \u001b[0;31m# Some plots of the parameters\u001b[0m\u001b[0;34m\u001b[0m\u001b[0;34m\u001b[0m\u001b[0m\n\u001b[0;32m----> 2\u001b[0;31m plots = [\n\u001b[0m\u001b[1;32m      3\u001b[0m     \u001b[0miqplot\u001b[0m\u001b[0;34m.\u001b[0m\u001b[0mhistogram\u001b[0m\u001b[0;34m(\u001b[0m\u001b[0mdf_mcmc\u001b[0m\u001b[0;34m,\u001b[0m \u001b[0mq\u001b[0m\u001b[0;34m=\u001b[0m\u001b[0mparam\u001b[0m\u001b[0;34m,\u001b[0m \u001b[0mrug\u001b[0m\u001b[0;34m=\u001b[0m\u001b[0;32mFalse\u001b[0m\u001b[0;34m)\u001b[0m\u001b[0;34m\u001b[0m\u001b[0;34m\u001b[0m\u001b[0m\n\u001b[1;32m      4\u001b[0m     \u001b[0;32mfor\u001b[0m \u001b[0mparam\u001b[0m \u001b[0;32min\u001b[0m \u001b[0;34m[\u001b[0m\u001b[0;34m\"mu\"\u001b[0m\u001b[0;34m,\u001b[0m \u001b[0;34m\"burst_size\"\u001b[0m\u001b[0;34m]\u001b[0m\u001b[0;34m\u001b[0m\u001b[0;34m\u001b[0m\u001b[0m\n\u001b[1;32m      5\u001b[0m ]\n",
            "\u001b[0;32m<ipython-input-25-868b727623cf>\u001b[0m in \u001b[0;36m<listcomp>\u001b[0;34m(.0)\u001b[0m\n\u001b[1;32m      1\u001b[0m \u001b[0;31m# Some plots of the parameters\u001b[0m\u001b[0;34m\u001b[0m\u001b[0;34m\u001b[0m\u001b[0m\n\u001b[1;32m      2\u001b[0m plots = [\n\u001b[0;32m----> 3\u001b[0;31m     \u001b[0miqplot\u001b[0m\u001b[0;34m.\u001b[0m\u001b[0mhistogram\u001b[0m\u001b[0;34m(\u001b[0m\u001b[0mdf_mcmc\u001b[0m\u001b[0;34m,\u001b[0m \u001b[0mq\u001b[0m\u001b[0;34m=\u001b[0m\u001b[0mparam\u001b[0m\u001b[0;34m,\u001b[0m \u001b[0mrug\u001b[0m\u001b[0;34m=\u001b[0m\u001b[0;32mFalse\u001b[0m\u001b[0;34m)\u001b[0m\u001b[0;34m\u001b[0m\u001b[0;34m\u001b[0m\u001b[0m\n\u001b[0m\u001b[1;32m      4\u001b[0m     \u001b[0;32mfor\u001b[0m \u001b[0mparam\u001b[0m \u001b[0;32min\u001b[0m \u001b[0;34m[\u001b[0m\u001b[0;34m\"mu\"\u001b[0m\u001b[0;34m,\u001b[0m \u001b[0;34m\"burst_size\"\u001b[0m\u001b[0;34m]\u001b[0m\u001b[0;34m\u001b[0m\u001b[0;34m\u001b[0m\u001b[0m\n\u001b[1;32m      5\u001b[0m ]\n",
            "\u001b[0;31mNameError\u001b[0m: name 'df_mcmc' is not defined"
          ]
        }
      ]
    },
    {
      "cell_type": "markdown",
      "source": [
        "Isolate the parameters as an  `np.array()`"
      ],
      "metadata": {
        "id": "u7MCnQrBjGSY"
      }
    },
    {
      "cell_type": "code",
      "source": [
        "mu_vals = df_mcmc.mu.values.flatten()\n",
        "bs_vals = df_mcmc.burst_size.values.flatten()"
      ],
      "metadata": {
        "id": "P3KQXqLBidIq"
      },
      "execution_count": null,
      "outputs": []
    },
    {
      "cell_type": "markdown",
      "source": [
        "The vector `mu_vals` (or `bs_vals`) contain many estimates for the parameters `mu` or `burst size`, but how do you know which one to pick? You can simply take the mean of these vectors (e.g. `np.mean(mu_vals)) and use that or the best estimate, but if the distribution is skewed like it is for burst size, you may want to choose some other quantile instead of the mean.\n",
        "\n",
        "You can explore this from plotting."
      ],
      "metadata": {
        "id": "YWrVt2ygjOP4"
      }
    },
    {
      "cell_type": "code",
      "source": [
        "# np.quantile(mu_vals, [0, 0.025, 0.5, 0.95, 1])\n",
        "np.quantile(bs_vals, [0, 0.025, 0.5, 0.95, 1])"
      ],
      "metadata": {
        "id": "Y7k3jL9Aiuqw"
      },
      "execution_count": null,
      "outputs": []
    },
    {
      "cell_type": "code",
      "source": [
        "# save the parameter estimates for the current \"rates\"\n",
        "best_mu = np.mean(mu_vals)\n",
        "best_bs = np.quantile(bs_vals, 0.5)"
      ],
      "metadata": {
        "id": "7CfpnMjGj8Gp"
      },
      "execution_count": null,
      "outputs": []
    },
    {
      "cell_type": "markdown",
      "source": [
        "Repeat the steps above, changing the input `rates` at each iteration. Keep track of the `best_mu` and `best_bs`. How do these values change for each new set of rates?"
      ],
      "metadata": {
        "id": "yXmH5bBTj2zZ"
      }
    },
    {
      "cell_type": "code",
      "source": [
        "# Generating different rates\n",
        "GRID_SIZE = 10 # dimensions of spatial grid\n",
        "NUM_SAMPLES = 1000\n",
        "\n",
        "\n",
        "# Helper functions to generate a sample from MVN(0, sigma)\n",
        "\n",
        "def adjacency_matrix(A):\n",
        "    '''Returns the adjacency matrix W from A, a NumPy array'''\n",
        "    rows, cols = len(A), len(A[0])\n",
        "    locs = rows * cols # number of spatial locations on the grid\n",
        "    W = np.zeros((locs, locs), dtype=int)\n",
        "\n",
        "    # Iterate through each element in A to determine number of neighbors\n",
        "    for r in range(rows):\n",
        "        for c in range(cols):\n",
        "            for dr, dc in [(-1,0),(1,0),(0,-1),(0,1)]:\n",
        "                if 0 <= r + dr < rows and 0 <= c + dc < cols:\n",
        "                    W[r * cols + c][(r + dr) * cols + c + dc] = 1\n",
        "\n",
        "    return W\n",
        "\n",
        "def sum_adjacency_matrix(W):\n",
        "    '''Outputs matrix D with same dimensions as W;\n",
        "    Sums the number of neighbors of the original points'''\n",
        "    return np.diag(np.sum(W, axis=1))\n",
        "\n",
        "def compute_sigma(A, alpha, tau):\n",
        "    '''Outputs the covariance matrix termed sigma from original matrix A'''\n",
        "    W = adjacency_matrix(A)\n",
        "    D = sum_adjacency_matrix(W)\n",
        "\n",
        "    Q = tau * (D - alpha * W) # the formula\n",
        "    return np.linalg.inv(Q)\n",
        "\n",
        "def MVN_sample(sigma, num_samples):\n",
        "    '''Returns a sample from a multivariate normal distribution\n",
        "    where sigma is a covariance matrix'''\n",
        "    zero_vector = np.zeros(len(sigma))\n",
        "    samples = np.random.multivariate_normal(zero_vector, sigma, num_samples)\n",
        "    return samples\n",
        "\n",
        "def inverse_logit(M):\n",
        "    '''Transforms a matrix of values into the range (0,1)'''\n",
        "    return 1 / (1 + np.exp(-M))\n",
        "\n",
        "# Generating the probability matrix\n",
        "def generate():\n",
        "    A = np.zeros((GRID_SIZE, GRID_SIZE), dtype=int)\n",
        "    W = adjacency_matrix(A)\n",
        "    D = sum_adjacency_matrix(W)\n",
        "    sigma = compute_sigma(A, 0.99, 1)\n",
        "\n",
        "    samples = MVN_sample(sigma, NUM_SAMPLES)\n",
        "    return inverse_logit(samples)"
      ],
      "metadata": {
        "id": "hr2yT25Me8U7"
      },
      "execution_count": null,
      "outputs": []
    },
    {
      "cell_type": "code",
      "source": [
        "# something might be off with the grid size here\n",
        "p_i = [generate() for x in range(10)]\n",
        "\n",
        "print(p_i)"
      ],
      "metadata": {
        "colab": {
          "base_uri": "https://localhost:8080/"
        },
        "id": "nuzOysQXgr5-",
        "outputId": "edfaec15-73cf-419e-baf7-3d140f3bfeab"
      },
      "execution_count": null,
      "outputs": [
        {
          "output_type": "stream",
          "name": "stdout",
          "text": [
            "[array([[0.40632479, 0.49009884, 0.69785571, ..., 0.53095697, 0.29949125,\n",
            "        0.57820621],\n",
            "       [0.10682142, 0.25752427, 0.40654043, ..., 0.3922786 , 0.58120362,\n",
            "        0.18953215],\n",
            "       [0.46546016, 0.39776064, 0.36826243, ..., 0.25117777, 0.27182522,\n",
            "        0.27978582],\n",
            "       ...,\n",
            "       [0.11932688, 0.26983823, 0.24579547, ..., 0.64764365, 0.54947655,\n",
            "        0.52125175],\n",
            "       [0.05681136, 0.26631368, 0.28859132, ..., 0.61245367, 0.34702894,\n",
            "        0.4529401 ],\n",
            "       [0.50991484, 0.427491  , 0.38296651, ..., 0.6142535 , 0.67330124,\n",
            "        0.70590274]]), array([[0.79297366, 0.69806685, 0.84305732, ..., 0.38781732, 0.73755279,\n",
            "        0.25823321],\n",
            "       [0.39488411, 0.2264663 , 0.38754491, ..., 0.93592407, 0.6487628 ,\n",
            "        0.91274787],\n",
            "       [0.26421212, 0.34994183, 0.37854291, ..., 0.53393341, 0.51603356,\n",
            "        0.6398354 ],\n",
            "       ...,\n",
            "       [0.53757793, 0.45502373, 0.73526997, ..., 0.78023038, 0.83478234,\n",
            "        0.81175571],\n",
            "       [0.66117037, 0.65033924, 0.72132201, ..., 0.2824702 , 0.27565463,\n",
            "        0.36751666],\n",
            "       [0.62853213, 0.671002  , 0.77814421, ..., 0.53913077, 0.6817489 ,\n",
            "        0.71675604]]), array([[0.75744352, 0.58946429, 0.36241152, ..., 0.79582716, 0.65506016,\n",
            "        0.61517773],\n",
            "       [0.48280018, 0.53615875, 0.7658774 , ..., 0.61241959, 0.85173268,\n",
            "        0.6981729 ],\n",
            "       [0.62413756, 0.54163652, 0.32098562, ..., 0.18757755, 0.26754327,\n",
            "        0.22875614],\n",
            "       ...,\n",
            "       [0.64207437, 0.73071828, 0.41808502, ..., 0.36555638, 0.51561052,\n",
            "        0.814547  ],\n",
            "       [0.15695496, 0.27053871, 0.22181931, ..., 0.47301601, 0.41249657,\n",
            "        0.2888331 ],\n",
            "       [0.11701227, 0.09906357, 0.23905175, ..., 0.85953498, 0.70574405,\n",
            "        0.66940492]]), array([[0.36710913, 0.50239835, 0.33191328, ..., 0.61196872, 0.37065304,\n",
            "        0.18723729],\n",
            "       [0.50842297, 0.68717478, 0.62141638, ..., 0.5376219 , 0.28282913,\n",
            "        0.2918054 ],\n",
            "       [0.2764302 , 0.42814356, 0.55168058, ..., 0.50565035, 0.55775346,\n",
            "        0.61483186],\n",
            "       ...,\n",
            "       [0.3001099 , 0.30333267, 0.38625415, ..., 0.81717598, 0.79837036,\n",
            "        0.84693028],\n",
            "       [0.59005636, 0.58445219, 0.53895763, ..., 0.17964433, 0.37118853,\n",
            "        0.35270036],\n",
            "       [0.73850196, 0.42714531, 0.37384572, ..., 0.2952051 , 0.21762647,\n",
            "        0.39668284]]), array([[0.43336591, 0.48012572, 0.28254278, ..., 0.36808459, 0.47783477,\n",
            "        0.52232028],\n",
            "       [0.78707406, 0.69922585, 0.74890238, ..., 0.65624665, 0.63441945,\n",
            "        0.38518117],\n",
            "       [0.26872169, 0.27513639, 0.30869135, ..., 0.60300364, 0.77881699,\n",
            "        0.93949724],\n",
            "       ...,\n",
            "       [0.12403457, 0.67231383, 0.64168836, ..., 0.57943818, 0.52162157,\n",
            "        0.19976173],\n",
            "       [0.62541914, 0.55763012, 0.61790946, ..., 0.74627154, 0.65251775,\n",
            "        0.57027049],\n",
            "       [0.60185455, 0.49096445, 0.41787312, ..., 0.90779622, 0.82595206,\n",
            "        0.8341169 ]]), array([[0.80993483, 0.78239402, 0.74416098, ..., 0.43236835, 0.4467615 ,\n",
            "        0.64738422],\n",
            "       [0.23220889, 0.32041115, 0.30696782, ..., 0.27680138, 0.38534661,\n",
            "        0.56369782],\n",
            "       [0.37604749, 0.25445028, 0.4756793 , ..., 0.58644601, 0.50978278,\n",
            "        0.25067821],\n",
            "       ...,\n",
            "       [0.8168922 , 0.75141741, 0.55752311, ..., 0.71784825, 0.54049593,\n",
            "        0.72528009],\n",
            "       [0.64220477, 0.78466268, 0.46450196, ..., 0.678377  , 0.70303264,\n",
            "        0.5017857 ],\n",
            "       [0.438923  , 0.82338926, 0.35096955, ..., 0.30419347, 0.56231324,\n",
            "        0.38687267]]), array([[0.04074561, 0.11238712, 0.0861177 , ..., 0.45327251, 0.62286969,\n",
            "        0.49671914],\n",
            "       [0.48153224, 0.61617394, 0.63239752, ..., 0.62997889, 0.51821479,\n",
            "        0.61180746],\n",
            "       [0.44949073, 0.40668759, 0.34468095, ..., 0.32625968, 0.51152863,\n",
            "        0.41700956],\n",
            "       ...,\n",
            "       [0.51069987, 0.31441143, 0.35655754, ..., 0.49689038, 0.31602621,\n",
            "        0.63550517],\n",
            "       [0.23852974, 0.64569476, 0.49778826, ..., 0.29566539, 0.44520065,\n",
            "        0.21726856],\n",
            "       [0.54244628, 0.87267564, 0.87669725, ..., 0.43221902, 0.62366306,\n",
            "        0.14018388]]), array([[0.70160688, 0.62267854, 0.50853911, ..., 0.53743785, 0.38645793,\n",
            "        0.14965434],\n",
            "       [0.16228354, 0.41474507, 0.76019638, ..., 0.57602911, 0.59257867,\n",
            "        0.65838738],\n",
            "       [0.84347262, 0.83539938, 0.43621129, ..., 0.56981355, 0.57932976,\n",
            "        0.65162066],\n",
            "       ...,\n",
            "       [0.92532743, 0.91676406, 0.75034774, ..., 0.8083415 , 0.75881229,\n",
            "        0.75992021],\n",
            "       [0.51018458, 0.81115272, 0.51707646, ..., 0.32139172, 0.13540374,\n",
            "        0.19493525],\n",
            "       [0.22548528, 0.38804999, 0.52707092, ..., 0.38712753, 0.2722605 ,\n",
            "        0.46018431]]), array([[0.16005094, 0.19648975, 0.24851721, ..., 0.40655433, 0.46333284,\n",
            "        0.60384665],\n",
            "       [0.31851397, 0.31084491, 0.17676151, ..., 0.17924996, 0.42358162,\n",
            "        0.53814394],\n",
            "       [0.5576819 , 0.35308332, 0.41707354, ..., 0.46858223, 0.67313295,\n",
            "        0.67609369],\n",
            "       ...,\n",
            "       [0.29034276, 0.15746508, 0.11901179, ..., 0.2544452 , 0.20361602,\n",
            "        0.44324312],\n",
            "       [0.76797783, 0.79222457, 0.66906032, ..., 0.44146151, 0.83188218,\n",
            "        0.8432648 ],\n",
            "       [0.68947037, 0.90298672, 0.82528764, ..., 0.41509496, 0.2820225 ,\n",
            "        0.29907542]]), array([[0.66358864, 0.38407619, 0.31169517, ..., 0.72209296, 0.86796372,\n",
            "        0.76045108],\n",
            "       [0.72700683, 0.63171078, 0.71389512, ..., 0.25964822, 0.22343724,\n",
            "        0.26638644],\n",
            "       [0.39526508, 0.30850679, 0.34181908, ..., 0.48082543, 0.40824958,\n",
            "        0.31970852],\n",
            "       ...,\n",
            "       [0.47577031, 0.47418554, 0.64439567, ..., 0.26342921, 0.18349432,\n",
            "        0.29227267],\n",
            "       [0.28864185, 0.2295007 , 0.32186061, ..., 0.66357854, 0.39128425,\n",
            "        0.31168765],\n",
            "       [0.16708269, 0.62872139, 0.55504732, ..., 0.67074416, 0.60132463,\n",
            "        0.47635209]])]\n"
          ]
        }
      ]
    },
    {
      "cell_type": "code",
      "source": [
        "results = {}\n",
        "\n",
        "COUNT_N = 6400\n",
        "\n",
        "for i, rates in enumerate(p_i):\n",
        "    data = dict(\n",
        "        count_n=COUNT_N,\n",
        "        counts=gene_counts,\n",
        "        rates=rates,\n",
        "\n",
        "        bs_mu=0,\n",
        "        bs_var=1,\n",
        "        mu_mu=0,\n",
        "        mu_var=5,\n",
        "    )\n",
        "\n",
        "    # Perform sampling with Stan\n",
        "    samples = sm.sample(\n",
        "        data=data,\n",
        "        chains=4,\n",
        "        iter_sampling=1000,\n",
        "    )\n",
        "\n",
        "    # Convert to ArviZ InferenceData instance\n",
        "    samples = az.from_cmdstanpy(posterior=samples)\n",
        "\n",
        "    df_mcmc = samples.posterior.to_dataframe()\n",
        "\n",
        "    # Calculate parameter estimates\n",
        "    mu_vals = df_mcmc.mu.values.flatten()\n",
        "    bs_vals = df_mcmc.burst_size.values.flatten()\n",
        "\n",
        "    # Store the parameter estimates for these rates\n",
        "    results[f'Rates {i}'] = {\n",
        "        'best_mu': np.mean(mu_vals),\n",
        "        'best_bs': np.quantile(bs_vals, 0.5)\n",
        "    }\n",
        "\n",
        "for i, params in results.items():\n",
        "    print(f\"{i} - Best mu: {params['best_mu']}, Best bs: {params['best_bs']}\")"
      ],
      "metadata": {
        "id": "_u7ghRzlkfA-",
        "colab": {
          "base_uri": "https://localhost:8080/",
          "height": 245
        },
        "outputId": "332e7506-69d7-467e-8569-3742215f471f"
      },
      "execution_count": null,
      "outputs": [
        {
          "output_type": "error",
          "ename": "NameError",
          "evalue": "ignored",
          "traceback": [
            "\u001b[0;31m---------------------------------------------------------------------------\u001b[0m",
            "\u001b[0;31mNameError\u001b[0m                                 Traceback (most recent call last)",
            "\u001b[0;32m<ipython-input-17-10b6b4441576>\u001b[0m in \u001b[0;36m<cell line: 5>\u001b[0;34m()\u001b[0m\n\u001b[1;32m      6\u001b[0m     data = dict(\n\u001b[1;32m      7\u001b[0m         \u001b[0mcount_n\u001b[0m\u001b[0;34m=\u001b[0m\u001b[0mCOUNT_N\u001b[0m\u001b[0;34m,\u001b[0m\u001b[0;34m\u001b[0m\u001b[0;34m\u001b[0m\u001b[0m\n\u001b[0;32m----> 8\u001b[0;31m         \u001b[0mcounts\u001b[0m\u001b[0;34m=\u001b[0m\u001b[0mgene_counts\u001b[0m\u001b[0;34m,\u001b[0m\u001b[0;34m\u001b[0m\u001b[0;34m\u001b[0m\u001b[0m\n\u001b[0m\u001b[1;32m      9\u001b[0m         \u001b[0mrates\u001b[0m\u001b[0;34m=\u001b[0m\u001b[0mrates\u001b[0m\u001b[0;34m,\u001b[0m\u001b[0;34m\u001b[0m\u001b[0;34m\u001b[0m\u001b[0m\n\u001b[1;32m     10\u001b[0m \u001b[0;34m\u001b[0m\u001b[0m\n",
            "\u001b[0;31mNameError\u001b[0m: name 'gene_counts' is not defined"
          ]
        }
      ]
    },
    {
      "cell_type": "markdown",
      "source": [
        "True vs. Predicted Parameter"
      ],
      "metadata": {
        "id": "2ZOkw1OPhzrz"
      }
    },
    {
      "cell_type": "code",
      "source": [
        "# Calculate the difference\n",
        "results['mu_difference'] = results['predicted_mu'] - results['true_mu']\n",
        "results['bs_difference'] = results['predicted_bs'] - results['true_bs']\n",
        "\n",
        "# Scatter plot\n",
        "plt.scatter(results['mu_difference'], results['bs_difference'])\n",
        "plt.xlabel('Difference in Mu')\n",
        "plt.ylabel('Difference in Burst Size')\n",
        "plt.title('Difference between True tand Predicted Parameters')\n",
        "plt.show()"
      ],
      "metadata": {
        "id": "Nj2nQ68FhrLC"
      },
      "execution_count": null,
      "outputs": []
    },
    {
      "cell_type": "markdown",
      "source": [
        "True parameters indexed by spatial location with confidence intervals"
      ],
      "metadata": {
        "id": "r1Mvv6QciHIp"
      }
    },
    {
      "cell_type": "code",
      "source": [
        "# Calculate 95% confidence intervals\n",
        "mu_lower = results['predicted_mu'].quantile(0.025)\n",
        "mu_upper = results['predicted_mu'].quantile(0.975)\n",
        "bs_lower = results['predicted_bs'].quantile(0.025)\n",
        "bs_upper = results['predicted_bs'].quantile(0.975)\n",
        "\n",
        "# Bar plot with error bars\n",
        "plt.bar(['Mu', 'Burst Size'], [true_mu, true_bs],\n",
        "        yerr=[[mu_lower, bs_lower], [mu_upper, bs_upper]])\n",
        "plt.xlabel('Parameter')\n",
        "plt.ylabel('Value')\n",
        "plt.title('True Parameters with Confidence Intervals')\n",
        "plt.show()"
      ],
      "metadata": {
        "id": "oaWrqll0iK00"
      },
      "execution_count": null,
      "outputs": []
    },
    {
      "cell_type": "markdown",
      "source": [
        "Correlation coefficient between true parameter value and predicted parameter value\n"
      ],
      "metadata": {
        "id": "bB6hPNozikBv"
      }
    },
    {
      "cell_type": "code",
      "source": [
        "corr_mu = np.corrcoef(results['true_mu'], results['predicted_mu'])[0, 1]\n",
        "corr_bs = np.corrcoef(results['true_bs'], results['predicted_bs'])[0, 1]\n",
        "\n",
        "# Bar plot\n",
        "plt.bar(['Mu', 'Burst Size'], [corr_mu, corr_bs])\n",
        "plt.xlabel('Parameter')\n",
        "plt.ylabel('Correlation Coefficient')\n",
        "plt.title('Correlation between True and Predicted Parameters')\n",
        "plt.show()"
      ],
      "metadata": {
        "id": "GXhNf2fjinAT"
      },
      "execution_count": null,
      "outputs": []
    },
    {
      "cell_type": "markdown",
      "source": [
        "Plot of distance between sampled p and true p vs correlation coefficient\n"
      ],
      "metadata": {
        "id": "riEAK4oZi0bh"
      }
    },
    {
      "cell_type": "code",
      "source": [
        "# Euclidean distance, L2 norm, between true p and sampled p\n",
        "results['d'] = np.sqrt(\n",
        "    (results['true_p'] - results['sampled_p'])**2).sum(axis=1)\n",
        "\n",
        "# Create a scatter plot\n",
        "plt.scatter(results['distance'], results['corr'])\n",
        "plt.xlabel('Distance between True p and Sampled p')\n",
        "plt.ylabel('Correlation Coefficient')\n",
        "plt.title('Distance vs. Correlation Coefficient')\n",
        "plt.show()"
      ],
      "metadata": {
        "id": "SK7kSsGAi9hh"
      },
      "execution_count": null,
      "outputs": []
    }
  ]
}