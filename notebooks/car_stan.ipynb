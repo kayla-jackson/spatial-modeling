{
  "nbformat": 4,
  "nbformat_minor": 0,
  "metadata": {
    "colab": {
      "provenance": [],
      "authorship_tag": "ABX9TyNh63sUxOv9cqc7R4HXNW0x",
      "include_colab_link": true
    },
    "kernelspec": {
      "name": "python3",
      "display_name": "Python 3"
    },
    "language_info": {
      "name": "python"
    }
  },
  "cells": [
    {
      "cell_type": "markdown",
      "metadata": {
        "id": "view-in-github",
        "colab_type": "text"
      },
      "source": [
        "<a href=\"https://colab.research.google.com/github/kayla-jackson/spatial-modeling/blob/test-exploratory-sims/notebooks/car_stan.ipynb\" target=\"_parent\"><img src=\"https://colab.research.google.com/assets/colab-badge.svg\" alt=\"Open In Colab\"/></a>"
      ]
    },
    {
      "cell_type": "code",
      "source": [
        "# Colab setup ------------------\n",
        "import os, sys, subprocess\n",
        "if \"google.colab\" in sys.modules:\n",
        "    cmd = \"pip install --upgrade iqplot colorcet bebi103 arviz cmdstanpy\"\n",
        "    process = subprocess.Popen(cmd.split(), stdout=subprocess.PIPE, stderr=subprocess.PIPE)\n",
        "    stdout, stderr = process.communicate()\n",
        "    import cmdstanpy; cmdstanpy.install_cmdstan()\n",
        "# ------------------------------"
      ],
      "metadata": {
        "colab": {
          "base_uri": "https://localhost:8080/"
        },
        "id": "I3Z1cIc_iKEZ",
        "outputId": "e57c8dee-c883-45ba-f142-4f9214810ab1"
      },
      "execution_count": 5,
      "outputs": [
        {
          "output_type": "stream",
          "name": "stdout",
          "text": [
            "Installing CmdStan version: 2.33.1\n",
            "Install directory: /root/.cmdstan\n",
            "Downloading CmdStan version 2.33.1\n",
            "Download successful, file: /tmp/tmpdcik2kaa\n",
            "Extracting distribution\n"
          ]
        },
        {
          "output_type": "stream",
          "name": "stderr",
          "text": [
            "DEBUG:cmdstanpy:cmd: make build -j1\n",
            "cwd: None\n"
          ]
        },
        {
          "output_type": "stream",
          "name": "stdout",
          "text": [
            "Unpacked download as cmdstan-2.33.1\n",
            "Building version cmdstan-2.33.1, may take several minutes, depending on your system.\n"
          ]
        },
        {
          "output_type": "stream",
          "name": "stderr",
          "text": [
            "DEBUG:cmdstanpy:cmd: make examples/bernoulli/bernoulli\n",
            "cwd: None\n"
          ]
        },
        {
          "output_type": "stream",
          "name": "stdout",
          "text": [
            "Test model compilation\n",
            "Installed cmdstan-2.33.1\n"
          ]
        }
      ]
    },
    {
      "cell_type": "code",
      "source": [
        "# Clone github repo\n",
        "!git clone --branch test-exploratory-sims https://github.com/kayla-jackson/spatial-modeling.git"
      ],
      "metadata": {
        "id": "bUD6z7CoiLud"
      },
      "execution_count": null,
      "outputs": []
    },
    {
      "cell_type": "code",
      "source": [
        "# Setup directories\n",
        "repo_dir = \"./spatial-modeling/\"\n",
        "data_dir = os.path.join(repo_dir, \"data\")\n",
        "stan_dir = os.path.join(repo_dir, \"inst/stan\")"
      ],
      "metadata": {
        "id": "JlD7sUZKjDWE"
      },
      "execution_count": 7,
      "outputs": []
    },
    {
      "cell_type": "markdown",
      "source": [
        "# Load libraries"
      ],
      "metadata": {
        "id": "Yq5Xs_0PhS_H"
      }
    },
    {
      "cell_type": "code",
      "execution_count": 22,
      "metadata": {
        "id": "0g3nR6JFKMPc"
      },
      "outputs": [],
      "source": [
        "import numpy as np\n",
        "import pandas as pd\n",
        "import scipy.special\n",
        "import scipy.stats as st\n",
        "\n",
        "import cmdstanpy\n",
        "import arviz as az\n",
        "\n",
        "# plotting packages\n",
        "import iqplot\n",
        "import bokeh.io\n",
        "import bokeh.plotting\n",
        "bokeh.io.output_notebook()"
      ]
    },
    {
      "cell_type": "markdown",
      "source": [
        "# Parameter Estimation with Markov Chain Monte Carlo (MCMC)\n",
        "\n",
        "The code below demonstrates how to perform parameter estimation using MCMC. The model is defined in the file `inst/stan/car.stan`.\n",
        "\n",
        "First, we have to compile the model."
      ],
      "metadata": {
        "id": "59y1HPS6kMjp"
      }
    },
    {
      "cell_type": "code",
      "source": [
        "fn = os.path.join(stan_dir, \"car_prob.stan\")\n",
        "\n",
        "sm = cmdstanpy.CmdStanModel(stan_file=fn)"
      ],
      "metadata": {
        "id": "L7cwUPjbhqX7"
      },
      "execution_count": null,
      "outputs": []
    },
    {
      "cell_type": "markdown",
      "source": [
        "Next, we specify the data and let Stan do the rest of the work. The paramers that you need to specify are as follows:\n",
        "\n",
        "\n",
        "* `count_n`: The number of points you will use to estimate parameters.\n",
        "* `counts`: The data you will use for fitting. Should be an array of size `count_n`.\n",
        "\n",
        "* `rates`: Represents the probability of capture at each grid point. Should be between `$0$` and `$1$`. Should be an array of size `count_n`.\n",
        "\n",
        "\n",
        "* `bs_mu`: For now, set to 0\n",
        "* `mu_mu`: For now, set to 0\n",
        "\n",
        "* `bs_var`: For now, set to 1\n",
        "* `mu_var`: For now, set to 5\n",
        "\n"
      ],
      "metadata": {
        "id": "hajWNZcdY2Sx"
      }
    },
    {
      "cell_type": "code",
      "source": [
        "# Let's say I have a 2x2 grid. This is just fake data.\n",
        "\n",
        "W = np.array([\n",
        "    0, 1, 1, 0,\n",
        "    1, 0, 0, 1,\n",
        "    1, 0, 0, 1,\n",
        "    0, 1, 1, 0\n",
        "])\n",
        "\n",
        "data = dict(\n",
        "    count_n=4,\n",
        "    counts=np.array([10, 30, 15, 12]),\n",
        "    rates=np.array([0.1, 0.2, 0.2, 0.35]),\n",
        "\n",
        "    bs_mu=0,\n",
        "    bs_var=1,\n",
        "    mu_mu=0,\n",
        "    mu_var=5,\n",
        ")"
      ],
      "metadata": {
        "id": "nySdUn3grLEz"
      },
      "execution_count": 17,
      "outputs": []
    },
    {
      "cell_type": "code",
      "source": [
        "# Perform sampling with Stan\n",
        "samples = sm.sample(\n",
        "    data=data,\n",
        "    chains=4,\n",
        "    iter_sampling=1000,\n",
        ")\n",
        "\n",
        "# Convert to ArviZ InferenceData instance\n",
        "samples = az.from_cmdstanpy(posterior=samples)"
      ],
      "metadata": {
        "id": "cgmGJ8XSc9mo"
      },
      "execution_count": null,
      "outputs": []
    },
    {
      "cell_type": "markdown",
      "source": [
        "Take a quick look at the posterior distribution"
      ],
      "metadata": {
        "id": "FZqJFiU-grSG"
      }
    },
    {
      "cell_type": "code",
      "source": [
        "samples.posterior"
      ],
      "metadata": {
        "id": "grNnv2Jcgjda"
      },
      "execution_count": null,
      "outputs": []
    },
    {
      "cell_type": "code",
      "source": [
        "# Convert posterior samples to dataframe for plotting\n",
        "df_mcmc = samples.posterior.to_dataframe()\n",
        "\n",
        "# Take a look\n",
        "df_mcmc.head()"
      ],
      "metadata": {
        "colab": {
          "base_uri": "https://localhost:8080/",
          "height": 235
        },
        "id": "r4cI1dbggk6-",
        "outputId": "112667d3-72e0-4c20-c56c-6983a1820c94"
      },
      "execution_count": 20,
      "outputs": [
        {
          "output_type": "execute_result",
          "data": {
            "text/plain": [
              "                 mu    log_bs  burst_size\n",
              "chain draw                               \n",
              "0     0     7.58786  0.605529     4.03208\n",
              "      1     6.73069  0.530424     3.39175\n",
              "      2     7.10242  0.520057     3.31174\n",
              "      3     7.85359  0.689744     4.89490\n",
              "      4     7.53880  0.549471     3.54382"
            ],
            "text/html": [
              "\n",
              "  <div id=\"df-03cedf99-a6da-47d3-a24f-ab0181d224ab\" class=\"colab-df-container\">\n",
              "    <div>\n",
              "<style scoped>\n",
              "    .dataframe tbody tr th:only-of-type {\n",
              "        vertical-align: middle;\n",
              "    }\n",
              "\n",
              "    .dataframe tbody tr th {\n",
              "        vertical-align: top;\n",
              "    }\n",
              "\n",
              "    .dataframe thead th {\n",
              "        text-align: right;\n",
              "    }\n",
              "</style>\n",
              "<table border=\"1\" class=\"dataframe\">\n",
              "  <thead>\n",
              "    <tr style=\"text-align: right;\">\n",
              "      <th></th>\n",
              "      <th></th>\n",
              "      <th>mu</th>\n",
              "      <th>log_bs</th>\n",
              "      <th>burst_size</th>\n",
              "    </tr>\n",
              "    <tr>\n",
              "      <th>chain</th>\n",
              "      <th>draw</th>\n",
              "      <th></th>\n",
              "      <th></th>\n",
              "      <th></th>\n",
              "    </tr>\n",
              "  </thead>\n",
              "  <tbody>\n",
              "    <tr>\n",
              "      <th rowspan=\"5\" valign=\"top\">0</th>\n",
              "      <th>0</th>\n",
              "      <td>7.58786</td>\n",
              "      <td>0.605529</td>\n",
              "      <td>4.03208</td>\n",
              "    </tr>\n",
              "    <tr>\n",
              "      <th>1</th>\n",
              "      <td>6.73069</td>\n",
              "      <td>0.530424</td>\n",
              "      <td>3.39175</td>\n",
              "    </tr>\n",
              "    <tr>\n",
              "      <th>2</th>\n",
              "      <td>7.10242</td>\n",
              "      <td>0.520057</td>\n",
              "      <td>3.31174</td>\n",
              "    </tr>\n",
              "    <tr>\n",
              "      <th>3</th>\n",
              "      <td>7.85359</td>\n",
              "      <td>0.689744</td>\n",
              "      <td>4.89490</td>\n",
              "    </tr>\n",
              "    <tr>\n",
              "      <th>4</th>\n",
              "      <td>7.53880</td>\n",
              "      <td>0.549471</td>\n",
              "      <td>3.54382</td>\n",
              "    </tr>\n",
              "  </tbody>\n",
              "</table>\n",
              "</div>\n",
              "    <div class=\"colab-df-buttons\">\n",
              "\n",
              "  <div class=\"colab-df-container\">\n",
              "    <button class=\"colab-df-convert\" onclick=\"convertToInteractive('df-03cedf99-a6da-47d3-a24f-ab0181d224ab')\"\n",
              "            title=\"Convert this dataframe to an interactive table.\"\n",
              "            style=\"display:none;\">\n",
              "\n",
              "  <svg xmlns=\"http://www.w3.org/2000/svg\" height=\"24px\" viewBox=\"0 -960 960 960\">\n",
              "    <path d=\"M120-120v-720h720v720H120Zm60-500h600v-160H180v160Zm220 220h160v-160H400v160Zm0 220h160v-160H400v160ZM180-400h160v-160H180v160Zm440 0h160v-160H620v160ZM180-180h160v-160H180v160Zm440 0h160v-160H620v160Z\"/>\n",
              "  </svg>\n",
              "    </button>\n",
              "\n",
              "  <style>\n",
              "    .colab-df-container {\n",
              "      display:flex;\n",
              "      gap: 12px;\n",
              "    }\n",
              "\n",
              "    .colab-df-convert {\n",
              "      background-color: #E8F0FE;\n",
              "      border: none;\n",
              "      border-radius: 50%;\n",
              "      cursor: pointer;\n",
              "      display: none;\n",
              "      fill: #1967D2;\n",
              "      height: 32px;\n",
              "      padding: 0 0 0 0;\n",
              "      width: 32px;\n",
              "    }\n",
              "\n",
              "    .colab-df-convert:hover {\n",
              "      background-color: #E2EBFA;\n",
              "      box-shadow: 0px 1px 2px rgba(60, 64, 67, 0.3), 0px 1px 3px 1px rgba(60, 64, 67, 0.15);\n",
              "      fill: #174EA6;\n",
              "    }\n",
              "\n",
              "    .colab-df-buttons div {\n",
              "      margin-bottom: 4px;\n",
              "    }\n",
              "\n",
              "    [theme=dark] .colab-df-convert {\n",
              "      background-color: #3B4455;\n",
              "      fill: #D2E3FC;\n",
              "    }\n",
              "\n",
              "    [theme=dark] .colab-df-convert:hover {\n",
              "      background-color: #434B5C;\n",
              "      box-shadow: 0px 1px 3px 1px rgba(0, 0, 0, 0.15);\n",
              "      filter: drop-shadow(0px 1px 2px rgba(0, 0, 0, 0.3));\n",
              "      fill: #FFFFFF;\n",
              "    }\n",
              "  </style>\n",
              "\n",
              "    <script>\n",
              "      const buttonEl =\n",
              "        document.querySelector('#df-03cedf99-a6da-47d3-a24f-ab0181d224ab button.colab-df-convert');\n",
              "      buttonEl.style.display =\n",
              "        google.colab.kernel.accessAllowed ? 'block' : 'none';\n",
              "\n",
              "      async function convertToInteractive(key) {\n",
              "        const element = document.querySelector('#df-03cedf99-a6da-47d3-a24f-ab0181d224ab');\n",
              "        const dataTable =\n",
              "          await google.colab.kernel.invokeFunction('convertToInteractive',\n",
              "                                                    [key], {});\n",
              "        if (!dataTable) return;\n",
              "\n",
              "        const docLinkHtml = 'Like what you see? Visit the ' +\n",
              "          '<a target=\"_blank\" href=https://colab.research.google.com/notebooks/data_table.ipynb>data table notebook</a>'\n",
              "          + ' to learn more about interactive tables.';\n",
              "        element.innerHTML = '';\n",
              "        dataTable['output_type'] = 'display_data';\n",
              "        await google.colab.output.renderOutput(dataTable, element);\n",
              "        const docLink = document.createElement('div');\n",
              "        docLink.innerHTML = docLinkHtml;\n",
              "        element.appendChild(docLink);\n",
              "      }\n",
              "    </script>\n",
              "  </div>\n",
              "\n",
              "\n",
              "<div id=\"df-9d500131-8e94-4d8a-a83b-603b39c6166c\">\n",
              "  <button class=\"colab-df-quickchart\" onclick=\"quickchart('df-9d500131-8e94-4d8a-a83b-603b39c6166c')\"\n",
              "            title=\"Suggest charts.\"\n",
              "            style=\"display:none;\">\n",
              "\n",
              "<svg xmlns=\"http://www.w3.org/2000/svg\" height=\"24px\"viewBox=\"0 0 24 24\"\n",
              "     width=\"24px\">\n",
              "    <g>\n",
              "        <path d=\"M19 3H5c-1.1 0-2 .9-2 2v14c0 1.1.9 2 2 2h14c1.1 0 2-.9 2-2V5c0-1.1-.9-2-2-2zM9 17H7v-7h2v7zm4 0h-2V7h2v10zm4 0h-2v-4h2v4z\"/>\n",
              "    </g>\n",
              "</svg>\n",
              "  </button>\n",
              "\n",
              "<style>\n",
              "  .colab-df-quickchart {\n",
              "      --bg-color: #E8F0FE;\n",
              "      --fill-color: #1967D2;\n",
              "      --hover-bg-color: #E2EBFA;\n",
              "      --hover-fill-color: #174EA6;\n",
              "      --disabled-fill-color: #AAA;\n",
              "      --disabled-bg-color: #DDD;\n",
              "  }\n",
              "\n",
              "  [theme=dark] .colab-df-quickchart {\n",
              "      --bg-color: #3B4455;\n",
              "      --fill-color: #D2E3FC;\n",
              "      --hover-bg-color: #434B5C;\n",
              "      --hover-fill-color: #FFFFFF;\n",
              "      --disabled-bg-color: #3B4455;\n",
              "      --disabled-fill-color: #666;\n",
              "  }\n",
              "\n",
              "  .colab-df-quickchart {\n",
              "    background-color: var(--bg-color);\n",
              "    border: none;\n",
              "    border-radius: 50%;\n",
              "    cursor: pointer;\n",
              "    display: none;\n",
              "    fill: var(--fill-color);\n",
              "    height: 32px;\n",
              "    padding: 0;\n",
              "    width: 32px;\n",
              "  }\n",
              "\n",
              "  .colab-df-quickchart:hover {\n",
              "    background-color: var(--hover-bg-color);\n",
              "    box-shadow: 0 1px 2px rgba(60, 64, 67, 0.3), 0 1px 3px 1px rgba(60, 64, 67, 0.15);\n",
              "    fill: var(--button-hover-fill-color);\n",
              "  }\n",
              "\n",
              "  .colab-df-quickchart-complete:disabled,\n",
              "  .colab-df-quickchart-complete:disabled:hover {\n",
              "    background-color: var(--disabled-bg-color);\n",
              "    fill: var(--disabled-fill-color);\n",
              "    box-shadow: none;\n",
              "  }\n",
              "\n",
              "  .colab-df-spinner {\n",
              "    border: 2px solid var(--fill-color);\n",
              "    border-color: transparent;\n",
              "    border-bottom-color: var(--fill-color);\n",
              "    animation:\n",
              "      spin 1s steps(1) infinite;\n",
              "  }\n",
              "\n",
              "  @keyframes spin {\n",
              "    0% {\n",
              "      border-color: transparent;\n",
              "      border-bottom-color: var(--fill-color);\n",
              "      border-left-color: var(--fill-color);\n",
              "    }\n",
              "    20% {\n",
              "      border-color: transparent;\n",
              "      border-left-color: var(--fill-color);\n",
              "      border-top-color: var(--fill-color);\n",
              "    }\n",
              "    30% {\n",
              "      border-color: transparent;\n",
              "      border-left-color: var(--fill-color);\n",
              "      border-top-color: var(--fill-color);\n",
              "      border-right-color: var(--fill-color);\n",
              "    }\n",
              "    40% {\n",
              "      border-color: transparent;\n",
              "      border-right-color: var(--fill-color);\n",
              "      border-top-color: var(--fill-color);\n",
              "    }\n",
              "    60% {\n",
              "      border-color: transparent;\n",
              "      border-right-color: var(--fill-color);\n",
              "    }\n",
              "    80% {\n",
              "      border-color: transparent;\n",
              "      border-right-color: var(--fill-color);\n",
              "      border-bottom-color: var(--fill-color);\n",
              "    }\n",
              "    90% {\n",
              "      border-color: transparent;\n",
              "      border-bottom-color: var(--fill-color);\n",
              "    }\n",
              "  }\n",
              "</style>\n",
              "\n",
              "  <script>\n",
              "    async function quickchart(key) {\n",
              "      const quickchartButtonEl =\n",
              "        document.querySelector('#' + key + ' button');\n",
              "      quickchartButtonEl.disabled = true;  // To prevent multiple clicks.\n",
              "      quickchartButtonEl.classList.add('colab-df-spinner');\n",
              "      try {\n",
              "        const charts = await google.colab.kernel.invokeFunction(\n",
              "            'suggestCharts', [key], {});\n",
              "      } catch (error) {\n",
              "        console.error('Error during call to suggestCharts:', error);\n",
              "      }\n",
              "      quickchartButtonEl.classList.remove('colab-df-spinner');\n",
              "      quickchartButtonEl.classList.add('colab-df-quickchart-complete');\n",
              "    }\n",
              "    (() => {\n",
              "      let quickchartButtonEl =\n",
              "        document.querySelector('#df-9d500131-8e94-4d8a-a83b-603b39c6166c button');\n",
              "      quickchartButtonEl.style.display =\n",
              "        google.colab.kernel.accessAllowed ? 'block' : 'none';\n",
              "    })();\n",
              "  </script>\n",
              "</div>\n",
              "    </div>\n",
              "  </div>\n"
            ]
          },
          "metadata": {},
          "execution_count": 20
        }
      ]
    },
    {
      "cell_type": "code",
      "source": [
        "# Some plots of the parameters\n",
        "plots = [\n",
        "    iqplot.histogram(df_mcmc, q=param, rug=False)\n",
        "    for param in [\"mu\", \"burst_size\"]\n",
        "]\n",
        "\n",
        "bokeh.io.show(bokeh.layouts.gridplot(plots, ncols=2))"
      ],
      "metadata": {
        "id": "4My3mBTFhSto"
      },
      "execution_count": null,
      "outputs": []
    },
    {
      "cell_type": "code",
      "source": [],
      "metadata": {
        "id": "mcuwgthpjFmT"
      },
      "execution_count": null,
      "outputs": []
    },
    {
      "cell_type": "markdown",
      "source": [
        "Isolate the parameters as an  `np.array()`"
      ],
      "metadata": {
        "id": "u7MCnQrBjGSY"
      }
    },
    {
      "cell_type": "code",
      "source": [
        "mu_vals = df_mcmc.mu.values.flatten()\n",
        "bs_vals = df_mcmc.burst_size.values.flatten()"
      ],
      "metadata": {
        "id": "P3KQXqLBidIq"
      },
      "execution_count": 30,
      "outputs": []
    },
    {
      "cell_type": "markdown",
      "source": [
        "The vector `mu_vals` (or `bs_vals`) contain many estimates for the parameters `mu` or `burst size`, but how do you know which one to pick? You can simply take the mean of these vectors (e.g. `np.mean(mu_vals)) and use that or the best estimate, but if the distribution is skewed like it is for burst size, you may want to choose some other quantile instead of the mean.\n",
        "\n",
        "You can explore this from plotting."
      ],
      "metadata": {
        "id": "YWrVt2ygjOP4"
      }
    },
    {
      "cell_type": "code",
      "source": [
        "# np.quantile(mu_vals, [0, 0.025, 0.5, 0.95, 1])\n",
        "np.quantile(bs_vals, [0, 0.025, 0.5, 0.95, 1])"
      ],
      "metadata": {
        "id": "Y7k3jL9Aiuqw"
      },
      "execution_count": null,
      "outputs": []
    },
    {
      "cell_type": "code",
      "source": [
        "# save the parameter estimates for the current \"rates\"\n",
        "best_mu = np.mean(mu_vals)\n",
        "best_bs = np.quantile(bs_vals, 0.5)"
      ],
      "metadata": {
        "id": "7CfpnMjGj8Gp"
      },
      "execution_count": 33,
      "outputs": []
    },
    {
      "cell_type": "markdown",
      "source": [
        "Repeat the steps above, changing the input `rates` at each iteration. Keep track of the `best_mu` and `best_bs`. How do these values change for each new set of rates?"
      ],
      "metadata": {
        "id": "yXmH5bBTj2zZ"
      }
    },
    {
      "cell_type": "code",
      "source": [],
      "metadata": {
        "id": "_u7ghRzlkfA-"
      },
      "execution_count": null,
      "outputs": []
    }
  ]
}